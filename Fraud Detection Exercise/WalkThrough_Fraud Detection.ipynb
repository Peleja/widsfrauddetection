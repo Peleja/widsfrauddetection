{
 "cells": [
  {
   "cell_type": "code",
   "execution_count": 1,
   "metadata": {},
   "outputs": [],
   "source": [
    "# Students need to run the 2 lines bellow\n",
    "#pip install imblearn\n",
    "#pip install cufflinks"
   ]
  },
  {
   "cell_type": "code",
   "execution_count": 2,
   "metadata": {},
   "outputs": [],
   "source": [
    "import numpy as np\n",
    "import pandas as pd\n",
    "import matplotlib.pyplot as plt\n",
    "import seaborn as sns\n",
    "\n",
    "from imblearn.over_sampling import SMOTE\n",
    "from sklearn.decomposition import PCA\n",
    "from sklearn.ensemble import RandomForestClassifier\n",
    "from sklearn.metrics import accuracy_score\n",
    "from sklearn.metrics import confusion_matrix,classification_report\n",
    "from sklearn.model_selection import train_test_split\n",
    "from sklearn.model_selection import GridSearchCV\n",
    "from sklearn.preprocessing import StandardScaler"
   ]
  },
  {
   "cell_type": "code",
   "execution_count": 3,
   "metadata": {},
   "outputs": [],
   "source": [
    "from IPython.display import display\n",
    "\n",
    "pd.options.display.max_columns = None\n",
    "pd.options.display.max_rows = None\n",
    "pd.options.display.max_seq_items = 2000\n",
    "\n",
    "import warnings\n",
    "warnings.filterwarnings('ignore')"
   ]
  },
  {
   "cell_type": "markdown",
   "metadata": {},
   "source": [
    "# Look at our data"
   ]
  },
  {
   "cell_type": "code",
   "execution_count": 4,
   "metadata": {},
   "outputs": [],
   "source": [
    "# Load data\n",
    "insurance_df = pd.read_csv('insurance_claims.csv')"
   ]
  },
  {
   "cell_type": "code",
   "execution_count": 5,
   "metadata": {},
   "outputs": [],
   "source": [
    "#insurance_df.shape?"
   ]
  },
  {
   "cell_type": "code",
   "execution_count": 6,
   "metadata": {},
   "outputs": [
    {
     "data": {
      "text/plain": [
       "(1000, 39)"
      ]
     },
     "execution_count": 6,
     "metadata": {},
     "output_type": "execute_result"
    }
   ],
   "source": [
    "insurance_df.shape"
   ]
  },
  {
   "cell_type": "code",
   "execution_count": 7,
   "metadata": {},
   "outputs": [
    {
     "name": "stdout",
     "output_type": "stream",
     "text": [
      "Rows:  1000\n",
      "Columns:  39\n"
     ]
    }
   ],
   "source": [
    "# Size of your data\n",
    "print('Rows: ', insurance_df.shape[0])\n",
    "print('Columns: ', insurance_df.shape[1])"
   ]
  },
  {
   "cell_type": "code",
   "execution_count": 7,
   "metadata": {},
   "outputs": [
    {
     "data": {
      "text/plain": [
       "Index(['months_as_customer', 'age', 'policy_number', 'policy_bind_date',\n",
       "       'policy_state', 'policy_csl', 'policy_deductable',\n",
       "       'policy_annual_premium', 'umbrella_limit', 'insured_zip', 'insured_sex',\n",
       "       'insured_education_level', 'insured_occupation', 'insured_hobbies',\n",
       "       'insured_relationship', 'capital-gains', 'capital-loss',\n",
       "       'incident_date', 'incident_type', 'collision_type', 'incident_severity',\n",
       "       'authorities_contacted', 'incident_state', 'incident_city',\n",
       "       'incident_location', 'incident_hour_of_the_day',\n",
       "       'number_of_vehicles_involved', 'property_damage', 'bodily_injuries',\n",
       "       'witnesses', 'police_report_available', 'total_claim_amount',\n",
       "       'injury_claim', 'property_claim', 'vehicle_claim', 'auto_make',\n",
       "       'auto_model', 'auto_year', 'fraud_reported'],\n",
       "      dtype='object')"
      ]
     },
     "execution_count": 7,
     "metadata": {},
     "output_type": "execute_result"
    }
   ],
   "source": [
    "# Columns\n",
    "insurance_df.columns"
   ]
  },
  {
   "cell_type": "code",
   "execution_count": 8,
   "metadata": {
    "scrolled": true
   },
   "outputs": [
    {
     "data": {
      "text/plain": [
       "months_as_customer               int64\n",
       "age                              int64\n",
       "policy_number                    int64\n",
       "policy_bind_date                object\n",
       "policy_state                    object\n",
       "policy_csl                      object\n",
       "policy_deductable                int64\n",
       "policy_annual_premium          float64\n",
       "umbrella_limit                   int64\n",
       "insured_zip                      int64\n",
       "insured_sex                     object\n",
       "insured_education_level         object\n",
       "insured_occupation              object\n",
       "insured_hobbies                 object\n",
       "insured_relationship            object\n",
       "capital-gains                    int64\n",
       "capital-loss                     int64\n",
       "incident_date                   object\n",
       "incident_type                   object\n",
       "collision_type                  object\n",
       "incident_severity               object\n",
       "authorities_contacted           object\n",
       "incident_state                  object\n",
       "incident_city                   object\n",
       "incident_location               object\n",
       "incident_hour_of_the_day         int64\n",
       "number_of_vehicles_involved      int64\n",
       "property_damage                 object\n",
       "bodily_injuries                  int64\n",
       "witnesses                        int64\n",
       "police_report_available         object\n",
       "total_claim_amount               int64\n",
       "injury_claim                     int64\n",
       "property_claim                   int64\n",
       "vehicle_claim                    int64\n",
       "auto_make                       object\n",
       "auto_model                      object\n",
       "auto_year                        int64\n",
       "fraud_reported                  object\n",
       "dtype: object"
      ]
     },
     "execution_count": 8,
     "metadata": {},
     "output_type": "execute_result"
    }
   ],
   "source": [
    "# Data types\n",
    "insurance_df.dtypes"
   ]
  },
  {
   "cell_type": "code",
   "execution_count": 9,
   "metadata": {},
   "outputs": [
    {
     "data": {
      "text/html": [
       "<div>\n",
       "<style scoped>\n",
       "    .dataframe tbody tr th:only-of-type {\n",
       "        vertical-align: middle;\n",
       "    }\n",
       "\n",
       "    .dataframe tbody tr th {\n",
       "        vertical-align: top;\n",
       "    }\n",
       "\n",
       "    .dataframe thead th {\n",
       "        text-align: right;\n",
       "    }\n",
       "</style>\n",
       "<table border=\"1\" class=\"dataframe\">\n",
       "  <thead>\n",
       "    <tr style=\"text-align: right;\">\n",
       "      <th></th>\n",
       "      <th>months_as_customer</th>\n",
       "      <th>age</th>\n",
       "      <th>policy_number</th>\n",
       "      <th>policy_bind_date</th>\n",
       "      <th>policy_state</th>\n",
       "      <th>policy_csl</th>\n",
       "      <th>policy_deductable</th>\n",
       "      <th>policy_annual_premium</th>\n",
       "      <th>umbrella_limit</th>\n",
       "      <th>insured_zip</th>\n",
       "      <th>insured_sex</th>\n",
       "      <th>insured_education_level</th>\n",
       "      <th>insured_occupation</th>\n",
       "      <th>insured_hobbies</th>\n",
       "      <th>insured_relationship</th>\n",
       "      <th>capital-gains</th>\n",
       "      <th>capital-loss</th>\n",
       "      <th>incident_date</th>\n",
       "      <th>incident_type</th>\n",
       "      <th>collision_type</th>\n",
       "      <th>incident_severity</th>\n",
       "      <th>authorities_contacted</th>\n",
       "      <th>incident_state</th>\n",
       "      <th>incident_city</th>\n",
       "      <th>incident_location</th>\n",
       "      <th>incident_hour_of_the_day</th>\n",
       "      <th>number_of_vehicles_involved</th>\n",
       "      <th>property_damage</th>\n",
       "      <th>bodily_injuries</th>\n",
       "      <th>witnesses</th>\n",
       "      <th>police_report_available</th>\n",
       "      <th>total_claim_amount</th>\n",
       "      <th>injury_claim</th>\n",
       "      <th>property_claim</th>\n",
       "      <th>vehicle_claim</th>\n",
       "      <th>auto_make</th>\n",
       "      <th>auto_model</th>\n",
       "      <th>auto_year</th>\n",
       "      <th>fraud_reported</th>\n",
       "    </tr>\n",
       "  </thead>\n",
       "  <tbody>\n",
       "    <tr>\n",
       "      <th>0</th>\n",
       "      <td>328</td>\n",
       "      <td>48</td>\n",
       "      <td>521585</td>\n",
       "      <td>17-10-2014</td>\n",
       "      <td>OH</td>\n",
       "      <td>250/500</td>\n",
       "      <td>1000</td>\n",
       "      <td>1406.91</td>\n",
       "      <td>0</td>\n",
       "      <td>466132</td>\n",
       "      <td>MALE</td>\n",
       "      <td>MD</td>\n",
       "      <td>craft-repair</td>\n",
       "      <td>sleeping</td>\n",
       "      <td>husband</td>\n",
       "      <td>53300</td>\n",
       "      <td>0</td>\n",
       "      <td>25-01-2015</td>\n",
       "      <td>Single Vehicle Collision</td>\n",
       "      <td>Side Collision</td>\n",
       "      <td>Major Damage</td>\n",
       "      <td>Police</td>\n",
       "      <td>SC</td>\n",
       "      <td>Columbus</td>\n",
       "      <td>9935 4th Drive</td>\n",
       "      <td>5</td>\n",
       "      <td>1</td>\n",
       "      <td>YES</td>\n",
       "      <td>1</td>\n",
       "      <td>2</td>\n",
       "      <td>YES</td>\n",
       "      <td>71610</td>\n",
       "      <td>6510</td>\n",
       "      <td>13020</td>\n",
       "      <td>52080</td>\n",
       "      <td>Saab</td>\n",
       "      <td>92x</td>\n",
       "      <td>2004</td>\n",
       "      <td>Y</td>\n",
       "    </tr>\n",
       "    <tr>\n",
       "      <th>1</th>\n",
       "      <td>228</td>\n",
       "      <td>42</td>\n",
       "      <td>342868</td>\n",
       "      <td>27-06-2006</td>\n",
       "      <td>IN</td>\n",
       "      <td>250/500</td>\n",
       "      <td>2000</td>\n",
       "      <td>1197.22</td>\n",
       "      <td>5000000</td>\n",
       "      <td>468176</td>\n",
       "      <td>MALE</td>\n",
       "      <td>MD</td>\n",
       "      <td>machine-op-inspct</td>\n",
       "      <td>reading</td>\n",
       "      <td>other-relative</td>\n",
       "      <td>0</td>\n",
       "      <td>0</td>\n",
       "      <td>21-01-2015</td>\n",
       "      <td>Vehicle Theft</td>\n",
       "      <td>?</td>\n",
       "      <td>Minor Damage</td>\n",
       "      <td>Police</td>\n",
       "      <td>VA</td>\n",
       "      <td>Riverwood</td>\n",
       "      <td>6608 MLK Hwy</td>\n",
       "      <td>8</td>\n",
       "      <td>1</td>\n",
       "      <td>?</td>\n",
       "      <td>0</td>\n",
       "      <td>0</td>\n",
       "      <td>?</td>\n",
       "      <td>5070</td>\n",
       "      <td>780</td>\n",
       "      <td>780</td>\n",
       "      <td>3510</td>\n",
       "      <td>Mercedes</td>\n",
       "      <td>E400</td>\n",
       "      <td>2007</td>\n",
       "      <td>Y</td>\n",
       "    </tr>\n",
       "    <tr>\n",
       "      <th>2</th>\n",
       "      <td>134</td>\n",
       "      <td>29</td>\n",
       "      <td>687698</td>\n",
       "      <td>06-09-2000</td>\n",
       "      <td>OH</td>\n",
       "      <td>100/300</td>\n",
       "      <td>2000</td>\n",
       "      <td>1413.14</td>\n",
       "      <td>5000000</td>\n",
       "      <td>430632</td>\n",
       "      <td>FEMALE</td>\n",
       "      <td>PhD</td>\n",
       "      <td>sales</td>\n",
       "      <td>board-games</td>\n",
       "      <td>own-child</td>\n",
       "      <td>35100</td>\n",
       "      <td>0</td>\n",
       "      <td>22-02-2015</td>\n",
       "      <td>Multi-vehicle Collision</td>\n",
       "      <td>Rear Collision</td>\n",
       "      <td>Minor Damage</td>\n",
       "      <td>Police</td>\n",
       "      <td>NY</td>\n",
       "      <td>Columbus</td>\n",
       "      <td>7121 Francis Lane</td>\n",
       "      <td>7</td>\n",
       "      <td>3</td>\n",
       "      <td>NO</td>\n",
       "      <td>2</td>\n",
       "      <td>3</td>\n",
       "      <td>NO</td>\n",
       "      <td>34650</td>\n",
       "      <td>7700</td>\n",
       "      <td>3850</td>\n",
       "      <td>23100</td>\n",
       "      <td>Dodge</td>\n",
       "      <td>RAM</td>\n",
       "      <td>2007</td>\n",
       "      <td>N</td>\n",
       "    </tr>\n",
       "    <tr>\n",
       "      <th>3</th>\n",
       "      <td>256</td>\n",
       "      <td>41</td>\n",
       "      <td>227811</td>\n",
       "      <td>25-05-1990</td>\n",
       "      <td>IL</td>\n",
       "      <td>250/500</td>\n",
       "      <td>2000</td>\n",
       "      <td>1415.74</td>\n",
       "      <td>6000000</td>\n",
       "      <td>608117</td>\n",
       "      <td>FEMALE</td>\n",
       "      <td>PhD</td>\n",
       "      <td>armed-forces</td>\n",
       "      <td>board-games</td>\n",
       "      <td>unmarried</td>\n",
       "      <td>48900</td>\n",
       "      <td>-62400</td>\n",
       "      <td>10-01-2015</td>\n",
       "      <td>Single Vehicle Collision</td>\n",
       "      <td>Front Collision</td>\n",
       "      <td>Major Damage</td>\n",
       "      <td>Police</td>\n",
       "      <td>OH</td>\n",
       "      <td>Arlington</td>\n",
       "      <td>6956 Maple Drive</td>\n",
       "      <td>5</td>\n",
       "      <td>1</td>\n",
       "      <td>?</td>\n",
       "      <td>1</td>\n",
       "      <td>2</td>\n",
       "      <td>NO</td>\n",
       "      <td>63400</td>\n",
       "      <td>6340</td>\n",
       "      <td>6340</td>\n",
       "      <td>50720</td>\n",
       "      <td>Chevrolet</td>\n",
       "      <td>Tahoe</td>\n",
       "      <td>2014</td>\n",
       "      <td>Y</td>\n",
       "    </tr>\n",
       "    <tr>\n",
       "      <th>4</th>\n",
       "      <td>228</td>\n",
       "      <td>44</td>\n",
       "      <td>367455</td>\n",
       "      <td>06-06-2014</td>\n",
       "      <td>IL</td>\n",
       "      <td>500/1000</td>\n",
       "      <td>1000</td>\n",
       "      <td>1583.91</td>\n",
       "      <td>6000000</td>\n",
       "      <td>610706</td>\n",
       "      <td>MALE</td>\n",
       "      <td>Associate</td>\n",
       "      <td>sales</td>\n",
       "      <td>board-games</td>\n",
       "      <td>unmarried</td>\n",
       "      <td>66000</td>\n",
       "      <td>-46000</td>\n",
       "      <td>17-02-2015</td>\n",
       "      <td>Vehicle Theft</td>\n",
       "      <td>?</td>\n",
       "      <td>Minor Damage</td>\n",
       "      <td>None</td>\n",
       "      <td>NY</td>\n",
       "      <td>Arlington</td>\n",
       "      <td>3041 3rd Ave</td>\n",
       "      <td>20</td>\n",
       "      <td>1</td>\n",
       "      <td>NO</td>\n",
       "      <td>0</td>\n",
       "      <td>1</td>\n",
       "      <td>NO</td>\n",
       "      <td>6500</td>\n",
       "      <td>1300</td>\n",
       "      <td>650</td>\n",
       "      <td>4550</td>\n",
       "      <td>Accura</td>\n",
       "      <td>RSX</td>\n",
       "      <td>2009</td>\n",
       "      <td>N</td>\n",
       "    </tr>\n",
       "  </tbody>\n",
       "</table>\n",
       "</div>"
      ],
      "text/plain": [
       "   months_as_customer  age  policy_number policy_bind_date policy_state  \\\n",
       "0                 328   48         521585       17-10-2014           OH   \n",
       "1                 228   42         342868       27-06-2006           IN   \n",
       "2                 134   29         687698       06-09-2000           OH   \n",
       "3                 256   41         227811       25-05-1990           IL   \n",
       "4                 228   44         367455       06-06-2014           IL   \n",
       "\n",
       "  policy_csl  policy_deductable  policy_annual_premium  umbrella_limit  \\\n",
       "0    250/500               1000                1406.91               0   \n",
       "1    250/500               2000                1197.22         5000000   \n",
       "2    100/300               2000                1413.14         5000000   \n",
       "3    250/500               2000                1415.74         6000000   \n",
       "4   500/1000               1000                1583.91         6000000   \n",
       "\n",
       "   insured_zip insured_sex insured_education_level insured_occupation  \\\n",
       "0       466132        MALE                      MD       craft-repair   \n",
       "1       468176        MALE                      MD  machine-op-inspct   \n",
       "2       430632      FEMALE                     PhD              sales   \n",
       "3       608117      FEMALE                     PhD       armed-forces   \n",
       "4       610706        MALE               Associate              sales   \n",
       "\n",
       "  insured_hobbies insured_relationship  capital-gains  capital-loss  \\\n",
       "0        sleeping              husband          53300             0   \n",
       "1         reading       other-relative              0             0   \n",
       "2     board-games            own-child          35100             0   \n",
       "3     board-games            unmarried          48900        -62400   \n",
       "4     board-games            unmarried          66000        -46000   \n",
       "\n",
       "  incident_date             incident_type   collision_type incident_severity  \\\n",
       "0    25-01-2015  Single Vehicle Collision   Side Collision      Major Damage   \n",
       "1    21-01-2015             Vehicle Theft                ?      Minor Damage   \n",
       "2    22-02-2015   Multi-vehicle Collision   Rear Collision      Minor Damage   \n",
       "3    10-01-2015  Single Vehicle Collision  Front Collision      Major Damage   \n",
       "4    17-02-2015             Vehicle Theft                ?      Minor Damage   \n",
       "\n",
       "  authorities_contacted incident_state incident_city  incident_location  \\\n",
       "0                Police             SC      Columbus     9935 4th Drive   \n",
       "1                Police             VA     Riverwood       6608 MLK Hwy   \n",
       "2                Police             NY      Columbus  7121 Francis Lane   \n",
       "3                Police             OH     Arlington   6956 Maple Drive   \n",
       "4                  None             NY     Arlington       3041 3rd Ave   \n",
       "\n",
       "   incident_hour_of_the_day  number_of_vehicles_involved property_damage  \\\n",
       "0                         5                            1             YES   \n",
       "1                         8                            1               ?   \n",
       "2                         7                            3              NO   \n",
       "3                         5                            1               ?   \n",
       "4                        20                            1              NO   \n",
       "\n",
       "   bodily_injuries  witnesses police_report_available  total_claim_amount  \\\n",
       "0                1          2                     YES               71610   \n",
       "1                0          0                       ?                5070   \n",
       "2                2          3                      NO               34650   \n",
       "3                1          2                      NO               63400   \n",
       "4                0          1                      NO                6500   \n",
       "\n",
       "   injury_claim  property_claim  vehicle_claim  auto_make auto_model  \\\n",
       "0          6510           13020          52080       Saab        92x   \n",
       "1           780             780           3510   Mercedes       E400   \n",
       "2          7700            3850          23100      Dodge        RAM   \n",
       "3          6340            6340          50720  Chevrolet      Tahoe   \n",
       "4          1300             650           4550     Accura        RSX   \n",
       "\n",
       "   auto_year fraud_reported  \n",
       "0       2004              Y  \n",
       "1       2007              Y  \n",
       "2       2007              N  \n",
       "3       2014              Y  \n",
       "4       2009              N  "
      ]
     },
     "execution_count": 9,
     "metadata": {},
     "output_type": "execute_result"
    }
   ],
   "source": [
    "# Look at data\n",
    "insurance_df.head()"
   ]
  },
  {
   "cell_type": "code",
   "execution_count": 10,
   "metadata": {},
   "outputs": [
    {
     "data": {
      "text/plain": [
       "array(['MALE', 'FEMALE'], dtype=object)"
      ]
     },
     "execution_count": 10,
     "metadata": {},
     "output_type": "execute_result"
    }
   ],
   "source": [
    "# Look at the column insured_sex\n",
    "insurance_df['insured_sex'].unique()"
   ]
  },
  {
   "cell_type": "code",
   "execution_count": 11,
   "metadata": {},
   "outputs": [
    {
     "data": {
      "text/plain": [
       "FEMALE    537\n",
       "MALE      463\n",
       "Name: insured_sex, dtype: int64"
      ]
     },
     "execution_count": 11,
     "metadata": {},
     "output_type": "execute_result"
    }
   ],
   "source": [
    "insurance_df['insured_sex'].value_counts()"
   ]
  },
  {
   "cell_type": "code",
   "execution_count": 12,
   "metadata": {},
   "outputs": [],
   "source": [
    "# 537+463 - no missing values"
   ]
  },
  {
   "cell_type": "code",
   "execution_count": 13,
   "metadata": {},
   "outputs": [],
   "source": [
    "column_sex = insurance_df['insured_sex']"
   ]
  },
  {
   "cell_type": "code",
   "execution_count": 14,
   "metadata": {},
   "outputs": [],
   "source": [
    "#type(column_sex)"
   ]
  },
  {
   "cell_type": "code",
   "execution_count": 15,
   "metadata": {},
   "outputs": [],
   "source": [
    "#column_sex.value_counts?"
   ]
  },
  {
   "cell_type": "markdown",
   "metadata": {},
   "source": [
    "# Descriptive Statistics"
   ]
  },
  {
   "cell_type": "code",
   "execution_count": 16,
   "metadata": {},
   "outputs": [
    {
     "data": {
      "text/html": [
       "<div>\n",
       "<style scoped>\n",
       "    .dataframe tbody tr th:only-of-type {\n",
       "        vertical-align: middle;\n",
       "    }\n",
       "\n",
       "    .dataframe tbody tr th {\n",
       "        vertical-align: top;\n",
       "    }\n",
       "\n",
       "    .dataframe thead th {\n",
       "        text-align: right;\n",
       "    }\n",
       "</style>\n",
       "<table border=\"1\" class=\"dataframe\">\n",
       "  <thead>\n",
       "    <tr style=\"text-align: right;\">\n",
       "      <th></th>\n",
       "      <th>months_as_customer</th>\n",
       "      <th>age</th>\n",
       "      <th>policy_number</th>\n",
       "      <th>policy_deductable</th>\n",
       "      <th>policy_annual_premium</th>\n",
       "      <th>umbrella_limit</th>\n",
       "      <th>insured_zip</th>\n",
       "      <th>capital-gains</th>\n",
       "      <th>capital-loss</th>\n",
       "      <th>incident_hour_of_the_day</th>\n",
       "      <th>number_of_vehicles_involved</th>\n",
       "      <th>bodily_injuries</th>\n",
       "      <th>witnesses</th>\n",
       "      <th>total_claim_amount</th>\n",
       "      <th>injury_claim</th>\n",
       "      <th>property_claim</th>\n",
       "      <th>vehicle_claim</th>\n",
       "      <th>auto_year</th>\n",
       "    </tr>\n",
       "  </thead>\n",
       "  <tbody>\n",
       "    <tr>\n",
       "      <th>count</th>\n",
       "      <td>1000.000000</td>\n",
       "      <td>1000.000000</td>\n",
       "      <td>1000.000000</td>\n",
       "      <td>1000.000000</td>\n",
       "      <td>1000.000000</td>\n",
       "      <td>1.000000e+03</td>\n",
       "      <td>1000.000000</td>\n",
       "      <td>1000.000000</td>\n",
       "      <td>1000.000000</td>\n",
       "      <td>1000.000000</td>\n",
       "      <td>1000.00000</td>\n",
       "      <td>1000.000000</td>\n",
       "      <td>1000.000000</td>\n",
       "      <td>1000.00000</td>\n",
       "      <td>1000.000000</td>\n",
       "      <td>1000.000000</td>\n",
       "      <td>1000.000000</td>\n",
       "      <td>1000.000000</td>\n",
       "    </tr>\n",
       "    <tr>\n",
       "      <th>mean</th>\n",
       "      <td>203.954000</td>\n",
       "      <td>38.948000</td>\n",
       "      <td>546238.648000</td>\n",
       "      <td>1136.000000</td>\n",
       "      <td>1256.406150</td>\n",
       "      <td>1.101000e+06</td>\n",
       "      <td>501214.488000</td>\n",
       "      <td>25126.100000</td>\n",
       "      <td>-26793.700000</td>\n",
       "      <td>11.644000</td>\n",
       "      <td>1.83900</td>\n",
       "      <td>0.992000</td>\n",
       "      <td>1.487000</td>\n",
       "      <td>52761.94000</td>\n",
       "      <td>7433.420000</td>\n",
       "      <td>7399.570000</td>\n",
       "      <td>37928.950000</td>\n",
       "      <td>2005.103000</td>\n",
       "    </tr>\n",
       "    <tr>\n",
       "      <th>std</th>\n",
       "      <td>115.113174</td>\n",
       "      <td>9.140287</td>\n",
       "      <td>257063.005276</td>\n",
       "      <td>611.864673</td>\n",
       "      <td>244.167395</td>\n",
       "      <td>2.297407e+06</td>\n",
       "      <td>71701.610941</td>\n",
       "      <td>27872.187708</td>\n",
       "      <td>28104.096686</td>\n",
       "      <td>6.951373</td>\n",
       "      <td>1.01888</td>\n",
       "      <td>0.820127</td>\n",
       "      <td>1.111335</td>\n",
       "      <td>26401.53319</td>\n",
       "      <td>4880.951853</td>\n",
       "      <td>4824.726179</td>\n",
       "      <td>18886.252893</td>\n",
       "      <td>6.015861</td>\n",
       "    </tr>\n",
       "    <tr>\n",
       "      <th>min</th>\n",
       "      <td>0.000000</td>\n",
       "      <td>19.000000</td>\n",
       "      <td>100804.000000</td>\n",
       "      <td>500.000000</td>\n",
       "      <td>433.330000</td>\n",
       "      <td>-1.000000e+06</td>\n",
       "      <td>430104.000000</td>\n",
       "      <td>0.000000</td>\n",
       "      <td>-111100.000000</td>\n",
       "      <td>0.000000</td>\n",
       "      <td>1.00000</td>\n",
       "      <td>0.000000</td>\n",
       "      <td>0.000000</td>\n",
       "      <td>100.00000</td>\n",
       "      <td>0.000000</td>\n",
       "      <td>0.000000</td>\n",
       "      <td>70.000000</td>\n",
       "      <td>1995.000000</td>\n",
       "    </tr>\n",
       "    <tr>\n",
       "      <th>25%</th>\n",
       "      <td>115.750000</td>\n",
       "      <td>32.000000</td>\n",
       "      <td>335980.250000</td>\n",
       "      <td>500.000000</td>\n",
       "      <td>1089.607500</td>\n",
       "      <td>0.000000e+00</td>\n",
       "      <td>448404.500000</td>\n",
       "      <td>0.000000</td>\n",
       "      <td>-51500.000000</td>\n",
       "      <td>6.000000</td>\n",
       "      <td>1.00000</td>\n",
       "      <td>0.000000</td>\n",
       "      <td>1.000000</td>\n",
       "      <td>41812.50000</td>\n",
       "      <td>4295.000000</td>\n",
       "      <td>4445.000000</td>\n",
       "      <td>30292.500000</td>\n",
       "      <td>2000.000000</td>\n",
       "    </tr>\n",
       "    <tr>\n",
       "      <th>50%</th>\n",
       "      <td>199.500000</td>\n",
       "      <td>38.000000</td>\n",
       "      <td>533135.000000</td>\n",
       "      <td>1000.000000</td>\n",
       "      <td>1257.200000</td>\n",
       "      <td>0.000000e+00</td>\n",
       "      <td>466445.500000</td>\n",
       "      <td>0.000000</td>\n",
       "      <td>-23250.000000</td>\n",
       "      <td>12.000000</td>\n",
       "      <td>1.00000</td>\n",
       "      <td>1.000000</td>\n",
       "      <td>1.000000</td>\n",
       "      <td>58055.00000</td>\n",
       "      <td>6775.000000</td>\n",
       "      <td>6750.000000</td>\n",
       "      <td>42100.000000</td>\n",
       "      <td>2005.000000</td>\n",
       "    </tr>\n",
       "    <tr>\n",
       "      <th>75%</th>\n",
       "      <td>276.250000</td>\n",
       "      <td>44.000000</td>\n",
       "      <td>759099.750000</td>\n",
       "      <td>2000.000000</td>\n",
       "      <td>1415.695000</td>\n",
       "      <td>0.000000e+00</td>\n",
       "      <td>603251.000000</td>\n",
       "      <td>51025.000000</td>\n",
       "      <td>0.000000</td>\n",
       "      <td>17.000000</td>\n",
       "      <td>3.00000</td>\n",
       "      <td>2.000000</td>\n",
       "      <td>2.000000</td>\n",
       "      <td>70592.50000</td>\n",
       "      <td>11305.000000</td>\n",
       "      <td>10885.000000</td>\n",
       "      <td>50822.500000</td>\n",
       "      <td>2010.000000</td>\n",
       "    </tr>\n",
       "    <tr>\n",
       "      <th>max</th>\n",
       "      <td>479.000000</td>\n",
       "      <td>64.000000</td>\n",
       "      <td>999435.000000</td>\n",
       "      <td>2000.000000</td>\n",
       "      <td>2047.590000</td>\n",
       "      <td>1.000000e+07</td>\n",
       "      <td>620962.000000</td>\n",
       "      <td>100500.000000</td>\n",
       "      <td>0.000000</td>\n",
       "      <td>23.000000</td>\n",
       "      <td>4.00000</td>\n",
       "      <td>2.000000</td>\n",
       "      <td>3.000000</td>\n",
       "      <td>114920.00000</td>\n",
       "      <td>21450.000000</td>\n",
       "      <td>23670.000000</td>\n",
       "      <td>79560.000000</td>\n",
       "      <td>2015.000000</td>\n",
       "    </tr>\n",
       "  </tbody>\n",
       "</table>\n",
       "</div>"
      ],
      "text/plain": [
       "       months_as_customer          age  policy_number  policy_deductable  \\\n",
       "count         1000.000000  1000.000000    1000.000000        1000.000000   \n",
       "mean           203.954000    38.948000  546238.648000        1136.000000   \n",
       "std            115.113174     9.140287  257063.005276         611.864673   \n",
       "min              0.000000    19.000000  100804.000000         500.000000   \n",
       "25%            115.750000    32.000000  335980.250000         500.000000   \n",
       "50%            199.500000    38.000000  533135.000000        1000.000000   \n",
       "75%            276.250000    44.000000  759099.750000        2000.000000   \n",
       "max            479.000000    64.000000  999435.000000        2000.000000   \n",
       "\n",
       "       policy_annual_premium  umbrella_limit    insured_zip  capital-gains  \\\n",
       "count            1000.000000    1.000000e+03    1000.000000    1000.000000   \n",
       "mean             1256.406150    1.101000e+06  501214.488000   25126.100000   \n",
       "std               244.167395    2.297407e+06   71701.610941   27872.187708   \n",
       "min               433.330000   -1.000000e+06  430104.000000       0.000000   \n",
       "25%              1089.607500    0.000000e+00  448404.500000       0.000000   \n",
       "50%              1257.200000    0.000000e+00  466445.500000       0.000000   \n",
       "75%              1415.695000    0.000000e+00  603251.000000   51025.000000   \n",
       "max              2047.590000    1.000000e+07  620962.000000  100500.000000   \n",
       "\n",
       "        capital-loss  incident_hour_of_the_day  number_of_vehicles_involved  \\\n",
       "count    1000.000000               1000.000000                   1000.00000   \n",
       "mean   -26793.700000                 11.644000                      1.83900   \n",
       "std     28104.096686                  6.951373                      1.01888   \n",
       "min   -111100.000000                  0.000000                      1.00000   \n",
       "25%    -51500.000000                  6.000000                      1.00000   \n",
       "50%    -23250.000000                 12.000000                      1.00000   \n",
       "75%         0.000000                 17.000000                      3.00000   \n",
       "max         0.000000                 23.000000                      4.00000   \n",
       "\n",
       "       bodily_injuries    witnesses  total_claim_amount  injury_claim  \\\n",
       "count      1000.000000  1000.000000          1000.00000   1000.000000   \n",
       "mean          0.992000     1.487000         52761.94000   7433.420000   \n",
       "std           0.820127     1.111335         26401.53319   4880.951853   \n",
       "min           0.000000     0.000000           100.00000      0.000000   \n",
       "25%           0.000000     1.000000         41812.50000   4295.000000   \n",
       "50%           1.000000     1.000000         58055.00000   6775.000000   \n",
       "75%           2.000000     2.000000         70592.50000  11305.000000   \n",
       "max           2.000000     3.000000        114920.00000  21450.000000   \n",
       "\n",
       "       property_claim  vehicle_claim    auto_year  \n",
       "count     1000.000000    1000.000000  1000.000000  \n",
       "mean      7399.570000   37928.950000  2005.103000  \n",
       "std       4824.726179   18886.252893     6.015861  \n",
       "min          0.000000      70.000000  1995.000000  \n",
       "25%       4445.000000   30292.500000  2000.000000  \n",
       "50%       6750.000000   42100.000000  2005.000000  \n",
       "75%      10885.000000   50822.500000  2010.000000  \n",
       "max      23670.000000   79560.000000  2015.000000  "
      ]
     },
     "execution_count": 16,
     "metadata": {},
     "output_type": "execute_result"
    }
   ],
   "source": [
    "insurance_df.describe()"
   ]
  },
  {
   "cell_type": "code",
   "execution_count": 17,
   "metadata": {},
   "outputs": [
    {
     "data": {
      "text/html": [
       "<div>\n",
       "<style scoped>\n",
       "    .dataframe tbody tr th:only-of-type {\n",
       "        vertical-align: middle;\n",
       "    }\n",
       "\n",
       "    .dataframe tbody tr th {\n",
       "        vertical-align: top;\n",
       "    }\n",
       "\n",
       "    .dataframe thead th {\n",
       "        text-align: right;\n",
       "    }\n",
       "</style>\n",
       "<table border=\"1\" class=\"dataframe\">\n",
       "  <thead>\n",
       "    <tr style=\"text-align: right;\">\n",
       "      <th></th>\n",
       "      <th>count</th>\n",
       "      <th>mean</th>\n",
       "      <th>std</th>\n",
       "      <th>min</th>\n",
       "      <th>25%</th>\n",
       "      <th>50%</th>\n",
       "      <th>75%</th>\n",
       "      <th>max</th>\n",
       "    </tr>\n",
       "  </thead>\n",
       "  <tbody>\n",
       "    <tr>\n",
       "      <th>capital-gains</th>\n",
       "      <td>1000.0</td>\n",
       "      <td>25126.10</td>\n",
       "      <td>27872.187708</td>\n",
       "      <td>0.0</td>\n",
       "      <td>0.0</td>\n",
       "      <td>0.0</td>\n",
       "      <td>51025.0</td>\n",
       "      <td>100500.0</td>\n",
       "    </tr>\n",
       "    <tr>\n",
       "      <th>capital-loss</th>\n",
       "      <td>1000.0</td>\n",
       "      <td>-26793.70</td>\n",
       "      <td>28104.096686</td>\n",
       "      <td>-111100.0</td>\n",
       "      <td>-51500.0</td>\n",
       "      <td>-23250.0</td>\n",
       "      <td>0.0</td>\n",
       "      <td>0.0</td>\n",
       "    </tr>\n",
       "    <tr>\n",
       "      <th>total_claim_amount</th>\n",
       "      <td>1000.0</td>\n",
       "      <td>52761.94</td>\n",
       "      <td>26401.533190</td>\n",
       "      <td>100.0</td>\n",
       "      <td>41812.5</td>\n",
       "      <td>58055.0</td>\n",
       "      <td>70592.5</td>\n",
       "      <td>114920.0</td>\n",
       "    </tr>\n",
       "  </tbody>\n",
       "</table>\n",
       "</div>"
      ],
      "text/plain": [
       "                     count      mean           std       min      25%  \\\n",
       "capital-gains       1000.0  25126.10  27872.187708       0.0      0.0   \n",
       "capital-loss        1000.0 -26793.70  28104.096686 -111100.0 -51500.0   \n",
       "total_claim_amount  1000.0  52761.94  26401.533190     100.0  41812.5   \n",
       "\n",
       "                        50%      75%       max  \n",
       "capital-gains           0.0  51025.0  100500.0  \n",
       "capital-loss       -23250.0      0.0       0.0  \n",
       "total_claim_amount  58055.0  70592.5  114920.0  "
      ]
     },
     "execution_count": 17,
     "metadata": {},
     "output_type": "execute_result"
    }
   ],
   "source": [
    "columns = ['capital-gains', 'capital-loss', 'total_claim_amount']\n",
    "\n",
    "insurance_df[columns].describe().transpose()"
   ]
  },
  {
   "cell_type": "code",
   "execution_count": 18,
   "metadata": {
    "scrolled": true
   },
   "outputs": [
    {
     "data": {
      "text/html": [
       "<div>\n",
       "<style scoped>\n",
       "    .dataframe tbody tr th:only-of-type {\n",
       "        vertical-align: middle;\n",
       "    }\n",
       "\n",
       "    .dataframe tbody tr th {\n",
       "        vertical-align: top;\n",
       "    }\n",
       "\n",
       "    .dataframe thead th {\n",
       "        text-align: right;\n",
       "    }\n",
       "</style>\n",
       "<table border=\"1\" class=\"dataframe\">\n",
       "  <thead>\n",
       "    <tr style=\"text-align: right;\">\n",
       "      <th></th>\n",
       "      <th>count</th>\n",
       "      <th>mean</th>\n",
       "      <th>std</th>\n",
       "      <th>min</th>\n",
       "      <th>25%</th>\n",
       "      <th>50%</th>\n",
       "      <th>75%</th>\n",
       "      <th>max</th>\n",
       "    </tr>\n",
       "  </thead>\n",
       "  <tbody>\n",
       "    <tr>\n",
       "      <th>months_as_customer</th>\n",
       "      <td>1000.0</td>\n",
       "      <td>2.039540e+02</td>\n",
       "      <td>1.151132e+02</td>\n",
       "      <td>0.00</td>\n",
       "      <td>115.7500</td>\n",
       "      <td>199.5</td>\n",
       "      <td>276.250</td>\n",
       "      <td>479.00</td>\n",
       "    </tr>\n",
       "    <tr>\n",
       "      <th>age</th>\n",
       "      <td>1000.0</td>\n",
       "      <td>3.894800e+01</td>\n",
       "      <td>9.140287e+00</td>\n",
       "      <td>19.00</td>\n",
       "      <td>32.0000</td>\n",
       "      <td>38.0</td>\n",
       "      <td>44.000</td>\n",
       "      <td>64.00</td>\n",
       "    </tr>\n",
       "    <tr>\n",
       "      <th>policy_number</th>\n",
       "      <td>1000.0</td>\n",
       "      <td>5.462386e+05</td>\n",
       "      <td>2.570630e+05</td>\n",
       "      <td>100804.00</td>\n",
       "      <td>335980.2500</td>\n",
       "      <td>533135.0</td>\n",
       "      <td>759099.750</td>\n",
       "      <td>999435.00</td>\n",
       "    </tr>\n",
       "    <tr>\n",
       "      <th>policy_deductable</th>\n",
       "      <td>1000.0</td>\n",
       "      <td>1.136000e+03</td>\n",
       "      <td>6.118647e+02</td>\n",
       "      <td>500.00</td>\n",
       "      <td>500.0000</td>\n",
       "      <td>1000.0</td>\n",
       "      <td>2000.000</td>\n",
       "      <td>2000.00</td>\n",
       "    </tr>\n",
       "    <tr>\n",
       "      <th>policy_annual_premium</th>\n",
       "      <td>1000.0</td>\n",
       "      <td>1.256406e+03</td>\n",
       "      <td>2.441674e+02</td>\n",
       "      <td>433.33</td>\n",
       "      <td>1089.6075</td>\n",
       "      <td>1257.2</td>\n",
       "      <td>1415.695</td>\n",
       "      <td>2047.59</td>\n",
       "    </tr>\n",
       "    <tr>\n",
       "      <th>umbrella_limit</th>\n",
       "      <td>1000.0</td>\n",
       "      <td>1.101000e+06</td>\n",
       "      <td>2.297407e+06</td>\n",
       "      <td>-1000000.00</td>\n",
       "      <td>0.0000</td>\n",
       "      <td>0.0</td>\n",
       "      <td>0.000</td>\n",
       "      <td>10000000.00</td>\n",
       "    </tr>\n",
       "    <tr>\n",
       "      <th>insured_zip</th>\n",
       "      <td>1000.0</td>\n",
       "      <td>5.012145e+05</td>\n",
       "      <td>7.170161e+04</td>\n",
       "      <td>430104.00</td>\n",
       "      <td>448404.5000</td>\n",
       "      <td>466445.5</td>\n",
       "      <td>603251.000</td>\n",
       "      <td>620962.00</td>\n",
       "    </tr>\n",
       "    <tr>\n",
       "      <th>capital-gains</th>\n",
       "      <td>1000.0</td>\n",
       "      <td>2.512610e+04</td>\n",
       "      <td>2.787219e+04</td>\n",
       "      <td>0.00</td>\n",
       "      <td>0.0000</td>\n",
       "      <td>0.0</td>\n",
       "      <td>51025.000</td>\n",
       "      <td>100500.00</td>\n",
       "    </tr>\n",
       "    <tr>\n",
       "      <th>capital-loss</th>\n",
       "      <td>1000.0</td>\n",
       "      <td>-2.679370e+04</td>\n",
       "      <td>2.810410e+04</td>\n",
       "      <td>-111100.00</td>\n",
       "      <td>-51500.0000</td>\n",
       "      <td>-23250.0</td>\n",
       "      <td>0.000</td>\n",
       "      <td>0.00</td>\n",
       "    </tr>\n",
       "    <tr>\n",
       "      <th>incident_hour_of_the_day</th>\n",
       "      <td>1000.0</td>\n",
       "      <td>1.164400e+01</td>\n",
       "      <td>6.951373e+00</td>\n",
       "      <td>0.00</td>\n",
       "      <td>6.0000</td>\n",
       "      <td>12.0</td>\n",
       "      <td>17.000</td>\n",
       "      <td>23.00</td>\n",
       "    </tr>\n",
       "    <tr>\n",
       "      <th>number_of_vehicles_involved</th>\n",
       "      <td>1000.0</td>\n",
       "      <td>1.839000e+00</td>\n",
       "      <td>1.018880e+00</td>\n",
       "      <td>1.00</td>\n",
       "      <td>1.0000</td>\n",
       "      <td>1.0</td>\n",
       "      <td>3.000</td>\n",
       "      <td>4.00</td>\n",
       "    </tr>\n",
       "    <tr>\n",
       "      <th>bodily_injuries</th>\n",
       "      <td>1000.0</td>\n",
       "      <td>9.920000e-01</td>\n",
       "      <td>8.201272e-01</td>\n",
       "      <td>0.00</td>\n",
       "      <td>0.0000</td>\n",
       "      <td>1.0</td>\n",
       "      <td>2.000</td>\n",
       "      <td>2.00</td>\n",
       "    </tr>\n",
       "    <tr>\n",
       "      <th>witnesses</th>\n",
       "      <td>1000.0</td>\n",
       "      <td>1.487000e+00</td>\n",
       "      <td>1.111335e+00</td>\n",
       "      <td>0.00</td>\n",
       "      <td>1.0000</td>\n",
       "      <td>1.0</td>\n",
       "      <td>2.000</td>\n",
       "      <td>3.00</td>\n",
       "    </tr>\n",
       "    <tr>\n",
       "      <th>total_claim_amount</th>\n",
       "      <td>1000.0</td>\n",
       "      <td>5.276194e+04</td>\n",
       "      <td>2.640153e+04</td>\n",
       "      <td>100.00</td>\n",
       "      <td>41812.5000</td>\n",
       "      <td>58055.0</td>\n",
       "      <td>70592.500</td>\n",
       "      <td>114920.00</td>\n",
       "    </tr>\n",
       "    <tr>\n",
       "      <th>injury_claim</th>\n",
       "      <td>1000.0</td>\n",
       "      <td>7.433420e+03</td>\n",
       "      <td>4.880952e+03</td>\n",
       "      <td>0.00</td>\n",
       "      <td>4295.0000</td>\n",
       "      <td>6775.0</td>\n",
       "      <td>11305.000</td>\n",
       "      <td>21450.00</td>\n",
       "    </tr>\n",
       "    <tr>\n",
       "      <th>property_claim</th>\n",
       "      <td>1000.0</td>\n",
       "      <td>7.399570e+03</td>\n",
       "      <td>4.824726e+03</td>\n",
       "      <td>0.00</td>\n",
       "      <td>4445.0000</td>\n",
       "      <td>6750.0</td>\n",
       "      <td>10885.000</td>\n",
       "      <td>23670.00</td>\n",
       "    </tr>\n",
       "    <tr>\n",
       "      <th>vehicle_claim</th>\n",
       "      <td>1000.0</td>\n",
       "      <td>3.792895e+04</td>\n",
       "      <td>1.888625e+04</td>\n",
       "      <td>70.00</td>\n",
       "      <td>30292.5000</td>\n",
       "      <td>42100.0</td>\n",
       "      <td>50822.500</td>\n",
       "      <td>79560.00</td>\n",
       "    </tr>\n",
       "    <tr>\n",
       "      <th>auto_year</th>\n",
       "      <td>1000.0</td>\n",
       "      <td>2.005103e+03</td>\n",
       "      <td>6.015861e+00</td>\n",
       "      <td>1995.00</td>\n",
       "      <td>2000.0000</td>\n",
       "      <td>2005.0</td>\n",
       "      <td>2010.000</td>\n",
       "      <td>2015.00</td>\n",
       "    </tr>\n",
       "  </tbody>\n",
       "</table>\n",
       "</div>"
      ],
      "text/plain": [
       "                              count          mean           std         min  \\\n",
       "months_as_customer           1000.0  2.039540e+02  1.151132e+02        0.00   \n",
       "age                          1000.0  3.894800e+01  9.140287e+00       19.00   \n",
       "policy_number                1000.0  5.462386e+05  2.570630e+05   100804.00   \n",
       "policy_deductable            1000.0  1.136000e+03  6.118647e+02      500.00   \n",
       "policy_annual_premium        1000.0  1.256406e+03  2.441674e+02      433.33   \n",
       "umbrella_limit               1000.0  1.101000e+06  2.297407e+06 -1000000.00   \n",
       "insured_zip                  1000.0  5.012145e+05  7.170161e+04   430104.00   \n",
       "capital-gains                1000.0  2.512610e+04  2.787219e+04        0.00   \n",
       "capital-loss                 1000.0 -2.679370e+04  2.810410e+04  -111100.00   \n",
       "incident_hour_of_the_day     1000.0  1.164400e+01  6.951373e+00        0.00   \n",
       "number_of_vehicles_involved  1000.0  1.839000e+00  1.018880e+00        1.00   \n",
       "bodily_injuries              1000.0  9.920000e-01  8.201272e-01        0.00   \n",
       "witnesses                    1000.0  1.487000e+00  1.111335e+00        0.00   \n",
       "total_claim_amount           1000.0  5.276194e+04  2.640153e+04      100.00   \n",
       "injury_claim                 1000.0  7.433420e+03  4.880952e+03        0.00   \n",
       "property_claim               1000.0  7.399570e+03  4.824726e+03        0.00   \n",
       "vehicle_claim                1000.0  3.792895e+04  1.888625e+04       70.00   \n",
       "auto_year                    1000.0  2.005103e+03  6.015861e+00     1995.00   \n",
       "\n",
       "                                     25%       50%         75%          max  \n",
       "months_as_customer              115.7500     199.5     276.250       479.00  \n",
       "age                              32.0000      38.0      44.000        64.00  \n",
       "policy_number                335980.2500  533135.0  759099.750    999435.00  \n",
       "policy_deductable               500.0000    1000.0    2000.000      2000.00  \n",
       "policy_annual_premium          1089.6075    1257.2    1415.695      2047.59  \n",
       "umbrella_limit                    0.0000       0.0       0.000  10000000.00  \n",
       "insured_zip                  448404.5000  466445.5  603251.000    620962.00  \n",
       "capital-gains                     0.0000       0.0   51025.000    100500.00  \n",
       "capital-loss                 -51500.0000  -23250.0       0.000         0.00  \n",
       "incident_hour_of_the_day          6.0000      12.0      17.000        23.00  \n",
       "number_of_vehicles_involved       1.0000       1.0       3.000         4.00  \n",
       "bodily_injuries                   0.0000       1.0       2.000         2.00  \n",
       "witnesses                         1.0000       1.0       2.000         3.00  \n",
       "total_claim_amount            41812.5000   58055.0   70592.500    114920.00  \n",
       "injury_claim                   4295.0000    6775.0   11305.000     21450.00  \n",
       "property_claim                 4445.0000    6750.0   10885.000     23670.00  \n",
       "vehicle_claim                 30292.5000   42100.0   50822.500     79560.00  \n",
       "auto_year                      2000.0000    2005.0    2010.000      2015.00  "
      ]
     },
     "execution_count": 18,
     "metadata": {},
     "output_type": "execute_result"
    }
   ],
   "source": [
    "# We have many columns, let's inverse the stats\n",
    "insurance_df.describe().transpose()"
   ]
  },
  {
   "cell_type": "markdown",
   "metadata": {},
   "source": [
    "# Look at target variable\n",
    "- Fraud Reported"
   ]
  },
  {
   "cell_type": "code",
   "execution_count": 19,
   "metadata": {},
   "outputs": [
    {
     "data": {
      "text/plain": [
       "N    753\n",
       "Y    247\n",
       "Name: fraud_reported, dtype: int64"
      ]
     },
     "execution_count": 19,
     "metadata": {},
     "output_type": "execute_result"
    }
   ],
   "source": [
    "# See how many fraud cases Y=Yes(Fraud sample) and N=No(Not a Fraud sample)\n",
    "insurance_df['fraud_reported'].value_counts()"
   ]
  },
  {
   "cell_type": "code",
   "execution_count": 20,
   "metadata": {},
   "outputs": [],
   "source": [
    "condition = insurance_df['fraud_reported']=='Y'\n",
    "\n",
    "# Create a pandas dataframe only with Fraud samples to better understand it\n",
    "fraud_df = insurance_df[condition]"
   ]
  },
  {
   "cell_type": "code",
   "execution_count": 21,
   "metadata": {},
   "outputs": [
    {
     "data": {
      "text/plain": [
       "(247, 39)"
      ]
     },
     "execution_count": 21,
     "metadata": {},
     "output_type": "execute_result"
    }
   ],
   "source": [
    "fraud_df.shape"
   ]
  },
  {
   "cell_type": "code",
   "execution_count": 22,
   "metadata": {},
   "outputs": [
    {
     "data": {
      "text/plain": [
       "Y    247\n",
       "Name: fraud_reported, dtype: int64"
      ]
     },
     "execution_count": 22,
     "metadata": {},
     "output_type": "execute_result"
    }
   ],
   "source": [
    "# Here we should only have Fraud cases\n",
    "fraud_df['fraud_reported'].value_counts()"
   ]
  },
  {
   "cell_type": "code",
   "execution_count": 23,
   "metadata": {},
   "outputs": [],
   "source": [
    "#sns.distplot?"
   ]
  },
  {
   "cell_type": "code",
   "execution_count": 24,
   "metadata": {},
   "outputs": [
    {
     "data": {
      "text/plain": [
       "pandas.core.series.Series"
      ]
     },
     "execution_count": 24,
     "metadata": {},
     "output_type": "execute_result"
    }
   ],
   "source": [
    "type(fraud_df['age'])"
   ]
  },
  {
   "cell_type": "code",
   "execution_count": 27,
   "metadata": {},
   "outputs": [
    {
     "data": {
      "image/png": "[encoded data removed]",
      "text/plain": [
       "<Figure size 720x576 with 1 Axes>"
      ]
     },
     "metadata": {
      "needs_background": "light"
     },
     "output_type": "display_data"
    }
   ],
   "source": [
    "# How can we build a density plot\n",
    "column_name = ['age']\n",
    "\n",
    "plt.figure(figsize=(10,8))\n",
    "\n",
    "sns.distplot(fraud_df[column_name])\n",
    "\n",
    "plt.show()"
   ]
  },
  {
   "cell_type": "code",
   "execution_count": 39,
   "metadata": {},
   "outputs": [
    {
     "data": {
      "image/png": "[encoded data removed]",
      "text/plain": [
       "<Figure size 1152x1008 with 10 Axes>"
      ]
     },
     "metadata": {
      "needs_background": "light"
     },
     "output_type": "display_data"
    }
   ],
   "source": [
    "# Build density plots for more than one feature/attribute at the same time\n",
    "columns_to_observe=[\n",
    "    'months_as_customer',\n",
    "    'age',\n",
    "    'policy_deductable',\n",
    "    'policy_annual_premium',\n",
    "    'capital-gains',\n",
    "    'capital-loss',\n",
    "    'total_claim_amount',\n",
    "    'injury_claim',\n",
    "    'property_claim',\n",
    "    'vehicle_claim'\n",
    "]\n",
    "\n",
    "plt.figure(figsize=(16,14))\n",
    "\n",
    "k=1\n",
    "for i in columns_to_observe:\n",
    "    plt.subplot(4, 4, k)\n",
    "    \n",
    "    sns.distplot(fraud_df[i])\n",
    "    \n",
    "    k=k+1\n",
    "    \n",
    "plt.show()"
   ]
  },
  {
   "cell_type": "markdown",
   "metadata": {},
   "source": [
    "- For all columns we observe an approximation to the normal distribution"
   ]
  },
  {
   "cell_type": "markdown",
   "metadata": {},
   "source": [
    "# Visual inspection to understand if,\n",
    "## the longer a customer is in the company more/less likely will submit a fraud insurance claim?"
   ]
  },
  {
   "cell_type": "code",
   "execution_count": 40,
   "metadata": {},
   "outputs": [
    {
     "data": {
      "text/plain": [
       "N    753\n",
       "Y    247\n",
       "Name: fraud_reported, dtype: int64"
      ]
     },
     "execution_count": 40,
     "metadata": {},
     "output_type": "execute_result"
    }
   ],
   "source": [
    "insurance_df['fraud_reported'].value_counts()"
   ]
  },
  {
   "cell_type": "code",
   "execution_count": 43,
   "metadata": {
    "collapsed": true,
    "jupyter": {
     "outputs_hidden": true
    }
   },
   "outputs": [
    {
     "data": {
      "image/png": "[encoded data removed]",
      "text/plain": [
       "<Figure size 576x432 with 1 Axes>"
      ]
     },
     "metadata": {
      "needs_background": "light"
     },
     "output_type": "display_data"
    }
   ],
   "source": [
    "# Build a scatter plot here\n",
    "plt.figure(figsize=(8,6))\n",
    "\n",
    "sns.scatterplot(\n",
    "    x='age',\n",
    "    y='months_as_customer',    \n",
    "    hue='fraud_reported',    \n",
    "    data=insurance_df,\n",
    ")\n",
    "\n",
    "\n",
    "plt.grid(True)\n",
    "plt.show()"
   ]
  },
  {
   "cell_type": "markdown",
   "metadata": {},
   "source": [
    "- There's no obvious pattern that indicates that customers with more years in the company are more/less likely to submit a fraud insurance claim"
   ]
  },
  {
   "cell_type": "markdown",
   "metadata": {},
   "source": [
    "# Visual inspection to understand if,\n",
    "## age is correlated with fraud insuarance claims"
   ]
  },
  {
   "cell_type": "code",
   "execution_count": 44,
   "metadata": {},
   "outputs": [
    {
     "data": {
      "image/png": "[encoded data removed]",
      "text/plain": [
       "<Figure size 864x720 with 1 Axes>"
      ]
     },
     "metadata": {
      "needs_background": "light"
     },
     "output_type": "display_data"
    }
   ],
   "source": [
    "# Build a histogram plot\n",
    "plt.figure(figsize=(12,10))\n",
    "sns.countplot(\n",
    "    x='age',\n",
    "    hue='fraud_reported',\n",
    "    data=insurance_df,\n",
    ")\n",
    "plt.xticks(rotation=90)\n",
    "plt.show()"
   ]
  },
  {
   "cell_type": "markdown",
   "metadata": {},
   "source": [
    "- Again, we do not see any trend to fraud related to the consumer age"
   ]
  },
  {
   "cell_type": "markdown",
   "metadata": {},
   "source": [
    "# Let's now observe insurance policy, occupation and education\n",
    "## Is there any spike that might raise a flag?"
   ]
  },
  {
   "cell_type": "code",
   "execution_count": 55,
   "metadata": {},
   "outputs": [
    {
     "data": {
      "text/plain": [
       "(247, 39)"
      ]
     },
     "execution_count": 55,
     "metadata": {},
     "output_type": "execute_result"
    }
   ],
   "source": [
    "fraud_df.shape"
   ]
  },
  {
   "cell_type": "code",
   "execution_count": null,
   "metadata": {},
   "outputs": [],
   "source": [
    "#fraud_df.sort_values?"
   ]
  },
  {
   "cell_type": "code",
   "execution_count": 60,
   "metadata": {},
   "outputs": [
    {
     "data": {
      "text/html": [
       "<div>\n",
       "<style scoped>\n",
       "    .dataframe tbody tr th:only-of-type {\n",
       "        vertical-align: middle;\n",
       "    }\n",
       "\n",
       "    .dataframe tbody tr th {\n",
       "        vertical-align: top;\n",
       "    }\n",
       "\n",
       "    .dataframe thead th {\n",
       "        text-align: right;\n",
       "    }\n",
       "</style>\n",
       "<table border=\"1\" class=\"dataframe\">\n",
       "  <thead>\n",
       "    <tr style=\"text-align: right;\">\n",
       "      <th></th>\n",
       "      <th>index</th>\n",
       "      <th>policy_number</th>\n",
       "      <th>insured_occupation</th>\n",
       "      <th>insured_education_level</th>\n",
       "      <th>total_claim_amount</th>\n",
       "    </tr>\n",
       "  </thead>\n",
       "  <tbody>\n",
       "    <tr>\n",
       "      <th>0</th>\n",
       "      <td>149</td>\n",
       "      <td>217938</td>\n",
       "      <td>craft-repair</td>\n",
       "      <td>JD</td>\n",
       "      <td>112320</td>\n",
       "    </tr>\n",
       "    <tr>\n",
       "      <th>1</th>\n",
       "      <td>163</td>\n",
       "      <td>346940</td>\n",
       "      <td>prof-specialty</td>\n",
       "      <td>Masters</td>\n",
       "      <td>107900</td>\n",
       "    </tr>\n",
       "    <tr>\n",
       "      <th>2</th>\n",
       "      <td>479</td>\n",
       "      <td>753844</td>\n",
       "      <td>sales</td>\n",
       "      <td>MD</td>\n",
       "      <td>104610</td>\n",
       "    </tr>\n",
       "    <tr>\n",
       "      <th>3</th>\n",
       "      <td>145</td>\n",
       "      <td>515050</td>\n",
       "      <td>exec-managerial</td>\n",
       "      <td>Associate</td>\n",
       "      <td>99320</td>\n",
       "    </tr>\n",
       "    <tr>\n",
       "      <th>4</th>\n",
       "      <td>247</td>\n",
       "      <td>187775</td>\n",
       "      <td>other-service</td>\n",
       "      <td>JD</td>\n",
       "      <td>98670</td>\n",
       "    </tr>\n",
       "  </tbody>\n",
       "</table>\n",
       "</div>"
      ],
      "text/plain": [
       "   index  policy_number insured_occupation insured_education_level  \\\n",
       "0    149         217938       craft-repair                      JD   \n",
       "1    163         346940     prof-specialty                 Masters   \n",
       "2    479         753844              sales                      MD   \n",
       "3    145         515050    exec-managerial               Associate   \n",
       "4    247         187775      other-service                      JD   \n",
       "\n",
       "   total_claim_amount  \n",
       "0              112320  \n",
       "1              107900  \n",
       "2              104610  \n",
       "3               99320  \n",
       "4               98670  "
      ]
     },
     "execution_count": 60,
     "metadata": {},
     "output_type": "execute_result"
    }
   ],
   "source": [
    "# Subset of features we are interested in\n",
    "columns_to_observe = \\\n",
    "['policy_number',\n",
    " 'insured_occupation',\n",
    " 'insured_education_level',\n",
    " 'total_claim_amount',\n",
    "]\n",
    "\n",
    "# Top 20 most frequent frauds for combination from the columns above\n",
    "fraud_df[columns_to_observe].sort_values('total_claim_amount',\n",
    "                                         ascending=False)[:5].reset_index()"
   ]
  },
  {
   "cell_type": "markdown",
   "metadata": {},
   "source": [
    "- Insurance Occupation craft-repair with Policy Number 217938 has claimed the highest amount of Fraud Claims with a total of \\$112.320"
   ]
  },
  {
   "cell_type": "markdown",
   "metadata": {},
   "source": [
    "## What about Education Level and Insured Occupation?"
   ]
  },
  {
   "cell_type": "code",
   "execution_count": 61,
   "metadata": {},
   "outputs": [
    {
     "data": {
      "text/plain": [
       "JD             42\n",
       "MD             38\n",
       "High School    36\n",
       "Associate      34\n",
       "PhD            33\n",
       "Masters        32\n",
       "College        32\n",
       "Name: insured_education_level, dtype: int64"
      ]
     },
     "execution_count": 61,
     "metadata": {},
     "output_type": "execute_result"
    }
   ],
   "source": [
    "fraud_df['insured_education_level'].value_counts()"
   ]
  },
  {
   "cell_type": "code",
   "execution_count": 62,
   "metadata": {},
   "outputs": [
    {
     "data": {
      "text/plain": [
       "exec-managerial      28\n",
       "tech-support         22\n",
       "craft-repair         22\n",
       "machine-op-inspct    22\n",
       "sales                21\n",
       "transport-moving     21\n",
       "prof-specialty       18\n",
       "armed-forces         17\n",
       "farming-fishing      16\n",
       "protective-serv      14\n",
       "other-service        12\n",
       "priv-house-serv      12\n",
       "handlers-cleaners    11\n",
       "adm-clerical         11\n",
       "Name: insured_occupation, dtype: int64"
      ]
     },
     "execution_count": 62,
     "metadata": {},
     "output_type": "execute_result"
    }
   ],
   "source": [
    "fraud_df['insured_occupation'].value_counts()"
   ]
  },
  {
   "cell_type": "markdown",
   "metadata": {},
   "source": [
    "# Let's visualized Insurance Education Level and Insurance Occupation\n",
    "## Data bellow is only for Fraud Claims"
   ]
  },
  {
   "cell_type": "code",
   "execution_count": 63,
   "metadata": {},
   "outputs": [
    {
     "data": {
      "image/png": "[encoded data removed]",
      "text/plain": [
       "<Figure size 1440x864 with 2 Axes>"
      ]
     },
     "metadata": {},
     "output_type": "display_data"
    }
   ],
   "source": [
    "sns.set(style=\"darkgrid\")\n",
    "\n",
    "plt.figure(figsize=(20,12))\n",
    "\n",
    "plt.subplot(1,2,1)\n",
    "plt.title(\"Count plot for Fraud transaction 'Y' wrt Education level\",fontsize=20)\n",
    "\n",
    "# plot 1 here\n",
    "sns.countplot(\n",
    "    'insured_education_level',\n",
    "    data = fraud_df,\n",
    ")\n",
    "\n",
    "\n",
    "plt.xticks(rotation=45)\n",
    "plt.grid(True)\n",
    "plt.tight_layout()\n",
    "\n",
    "plt.subplot(1,2,2)\n",
    "plt.title(\"Count plot for Fraud transaction 'Y' wrt Occupation\",fontsize=20)\n",
    "\n",
    "\n",
    "# plot 2 here\n",
    "sns.countplot(\n",
    "    'insured_occupation',\n",
    "    data = fraud_df,\n",
    ")\n",
    "\n",
    "\n",
    "plt.xticks(rotation=45)\n",
    "plt.grid(True)\n",
    "plt.tight_layout()\n",
    "plt.show()"
   ]
  },
  {
   "cell_type": "markdown",
   "metadata": {},
   "source": [
    "- It seems that customers with occupation as Exec-Managerial are more related to Fraud Transactions\n",
    "- JD level of education are also involved in more fraud transactions"
   ]
  },
  {
   "cell_type": "markdown",
   "metadata": {},
   "source": [
    "# Let's combine them together and understand it better"
   ]
  },
  {
   "cell_type": "code",
   "execution_count": 64,
   "metadata": {},
   "outputs": [
    {
     "data": {
      "text/plain": [
       "(247, 39)"
      ]
     },
     "execution_count": 64,
     "metadata": {},
     "output_type": "execute_result"
    }
   ],
   "source": [
    "fraud_df.shape"
   ]
  },
  {
   "cell_type": "code",
   "execution_count": 71,
   "metadata": {},
   "outputs": [],
   "source": [
    "# Looking at below claims\n",
    "# pivot here\n",
    "fraud_claims_pivot=\\\n",
    "pd.pivot_table(\n",
    "    fraud_df,\n",
    "    values='total_claim_amount',\n",
    "    index=[\n",
    "        'insured_occupation',\n",
    "        'insured_education_level'\n",
    "    ]\n",
    ").sort_values('total_claim_amount', ascending=False)"
   ]
  },
  {
   "cell_type": "code",
   "execution_count": 73,
   "metadata": {
    "scrolled": true
   },
   "outputs": [
    {
     "data": {
      "text/html": [
       "<style  type=\"text/css\" >\n",
       "#T_2e473b92_67ae_11eb_99e0_acde48001122row0_col0{\n",
       "            background-color:  #800080;\n",
       "            color:  #f1f1f1;\n",
       "        }#T_2e473b92_67ae_11eb_99e0_acde48001122row1_col0{\n",
       "            background-color:  #830683;\n",
       "            color:  #f1f1f1;\n",
       "        }#T_2e473b92_67ae_11eb_99e0_acde48001122row2_col0{\n",
       "            background-color:  #891289;\n",
       "            color:  #f1f1f1;\n",
       "        }#T_2e473b92_67ae_11eb_99e0_acde48001122row3_col0{\n",
       "            background-color:  #891389;\n",
       "            color:  #f1f1f1;\n",
       "        }#T_2e473b92_67ae_11eb_99e0_acde48001122row4_col0{\n",
       "            background-color:  #8a168a;\n",
       "            color:  #f1f1f1;\n",
       "        }#T_2e473b92_67ae_11eb_99e0_acde48001122row5_col0{\n",
       "            background-color:  #8c188c;\n",
       "            color:  #f1f1f1;\n",
       "        }#T_2e473b92_67ae_11eb_99e0_acde48001122row6_col0{\n",
       "            background-color:  #8f1f8f;\n",
       "            color:  #f1f1f1;\n",
       "        }#T_2e473b92_67ae_11eb_99e0_acde48001122row7_col0{\n",
       "            background-color:  #902290;\n",
       "            color:  #f1f1f1;\n",
       "        }#T_2e473b92_67ae_11eb_99e0_acde48001122row8_col0,#T_2e473b92_67ae_11eb_99e0_acde48001122row9_col0{\n",
       "            background-color:  #912491;\n",
       "            color:  #f1f1f1;\n",
       "        }#T_2e473b92_67ae_11eb_99e0_acde48001122row10_col0{\n",
       "            background-color:  #922792;\n",
       "            color:  #f1f1f1;\n",
       "        }#T_2e473b92_67ae_11eb_99e0_acde48001122row11_col0,#T_2e473b92_67ae_11eb_99e0_acde48001122row12_col0{\n",
       "            background-color:  #932793;\n",
       "            color:  #f1f1f1;\n",
       "        }#T_2e473b92_67ae_11eb_99e0_acde48001122row13_col0{\n",
       "            background-color:  #952b95;\n",
       "            color:  #f1f1f1;\n",
       "        }#T_2e473b92_67ae_11eb_99e0_acde48001122row14_col0{\n",
       "            background-color:  #952c95;\n",
       "            color:  #f1f1f1;\n",
       "        }#T_2e473b92_67ae_11eb_99e0_acde48001122row15_col0,#T_2e473b92_67ae_11eb_99e0_acde48001122row16_col0{\n",
       "            background-color:  #962d96;\n",
       "            color:  #f1f1f1;\n",
       "        }#T_2e473b92_67ae_11eb_99e0_acde48001122row17_col0,#T_2e473b92_67ae_11eb_99e0_acde48001122row18_col0,#T_2e473b92_67ae_11eb_99e0_acde48001122row19_col0{\n",
       "            background-color:  #962e96;\n",
       "            color:  #f1f1f1;\n",
       "        }#T_2e473b92_67ae_11eb_99e0_acde48001122row20_col0,#T_2e473b92_67ae_11eb_99e0_acde48001122row21_col0{\n",
       "            background-color:  #972f97;\n",
       "            color:  #f1f1f1;\n",
       "        }#T_2e473b92_67ae_11eb_99e0_acde48001122row22_col0{\n",
       "            background-color:  #973097;\n",
       "            color:  #f1f1f1;\n",
       "        }#T_2e473b92_67ae_11eb_99e0_acde48001122row23_col0{\n",
       "            background-color:  #973197;\n",
       "            color:  #f1f1f1;\n",
       "        }#T_2e473b92_67ae_11eb_99e0_acde48001122row24_col0{\n",
       "            background-color:  #983398;\n",
       "            color:  #f1f1f1;\n",
       "        }#T_2e473b92_67ae_11eb_99e0_acde48001122row25_col0,#T_2e473b92_67ae_11eb_99e0_acde48001122row26_col0{\n",
       "            background-color:  #9a369a;\n",
       "            color:  #f1f1f1;\n",
       "        }#T_2e473b92_67ae_11eb_99e0_acde48001122row27_col0{\n",
       "            background-color:  #9b379b;\n",
       "            color:  #f1f1f1;\n",
       "        }#T_2e473b92_67ae_11eb_99e0_acde48001122row28_col0{\n",
       "            background-color:  #9b389b;\n",
       "            color:  #f1f1f1;\n",
       "        }#T_2e473b92_67ae_11eb_99e0_acde48001122row29_col0{\n",
       "            background-color:  #9c3a9c;\n",
       "            color:  #f1f1f1;\n",
       "        }#T_2e473b92_67ae_11eb_99e0_acde48001122row30_col0,#T_2e473b92_67ae_11eb_99e0_acde48001122row31_col0{\n",
       "            background-color:  #9d3c9d;\n",
       "            color:  #f1f1f1;\n",
       "        }#T_2e473b92_67ae_11eb_99e0_acde48001122row32_col0,#T_2e473b92_67ae_11eb_99e0_acde48001122row33_col0{\n",
       "            background-color:  #9d3d9d;\n",
       "            color:  #f1f1f1;\n",
       "        }#T_2e473b92_67ae_11eb_99e0_acde48001122row34_col0{\n",
       "            background-color:  #9e3f9e;\n",
       "            color:  #f1f1f1;\n",
       "        }#T_2e473b92_67ae_11eb_99e0_acde48001122row35_col0,#T_2e473b92_67ae_11eb_99e0_acde48001122row36_col0{\n",
       "            background-color:  #9f419f;\n",
       "            color:  #f1f1f1;\n",
       "        }#T_2e473b92_67ae_11eb_99e0_acde48001122row37_col0{\n",
       "            background-color:  #a042a0;\n",
       "            color:  #f1f1f1;\n",
       "        }#T_2e473b92_67ae_11eb_99e0_acde48001122row38_col0{\n",
       "            background-color:  #a043a0;\n",
       "            color:  #f1f1f1;\n",
       "        }#T_2e473b92_67ae_11eb_99e0_acde48001122row39_col0{\n",
       "            background-color:  #a044a0;\n",
       "            color:  #f1f1f1;\n",
       "        }#T_2e473b92_67ae_11eb_99e0_acde48001122row40_col0,#T_2e473b92_67ae_11eb_99e0_acde48001122row41_col0{\n",
       "            background-color:  #a146a1;\n",
       "            color:  #f1f1f1;\n",
       "        }#T_2e473b92_67ae_11eb_99e0_acde48001122row42_col0,#T_2e473b92_67ae_11eb_99e0_acde48001122row43_col0,#T_2e473b92_67ae_11eb_99e0_acde48001122row44_col0{\n",
       "            background-color:  #a247a2;\n",
       "            color:  #f1f1f1;\n",
       "        }#T_2e473b92_67ae_11eb_99e0_acde48001122row45_col0{\n",
       "            background-color:  #a44aa4;\n",
       "            color:  #f1f1f1;\n",
       "        }#T_2e473b92_67ae_11eb_99e0_acde48001122row46_col0{\n",
       "            background-color:  #a54ea5;\n",
       "            color:  #f1f1f1;\n",
       "        }#T_2e473b92_67ae_11eb_99e0_acde48001122row47_col0{\n",
       "            background-color:  #a650a6;\n",
       "            color:  #000000;\n",
       "        }#T_2e473b92_67ae_11eb_99e0_acde48001122row48_col0,#T_2e473b92_67ae_11eb_99e0_acde48001122row49_col0{\n",
       "            background-color:  #a751a7;\n",
       "            color:  #000000;\n",
       "        }#T_2e473b92_67ae_11eb_99e0_acde48001122row50_col0,#T_2e473b92_67ae_11eb_99e0_acde48001122row51_col0{\n",
       "            background-color:  #a752a7;\n",
       "            color:  #000000;\n",
       "        }#T_2e473b92_67ae_11eb_99e0_acde48001122row52_col0,#T_2e473b92_67ae_11eb_99e0_acde48001122row53_col0{\n",
       "            background-color:  #a853a8;\n",
       "            color:  #000000;\n",
       "        }#T_2e473b92_67ae_11eb_99e0_acde48001122row54_col0,#T_2e473b92_67ae_11eb_99e0_acde48001122row55_col0,#T_2e473b92_67ae_11eb_99e0_acde48001122row56_col0{\n",
       "            background-color:  #a854a8;\n",
       "            color:  #000000;\n",
       "        }#T_2e473b92_67ae_11eb_99e0_acde48001122row57_col0{\n",
       "            background-color:  #a956a9;\n",
       "            color:  #000000;\n",
       "        }#T_2e473b92_67ae_11eb_99e0_acde48001122row58_col0,#T_2e473b92_67ae_11eb_99e0_acde48001122row59_col0{\n",
       "            background-color:  #ab59ab;\n",
       "            color:  #000000;\n",
       "        }#T_2e473b92_67ae_11eb_99e0_acde48001122row60_col0,#T_2e473b92_67ae_11eb_99e0_acde48001122row61_col0{\n",
       "            background-color:  #ab5aab;\n",
       "            color:  #000000;\n",
       "        }#T_2e473b92_67ae_11eb_99e0_acde48001122row62_col0,#T_2e473b92_67ae_11eb_99e0_acde48001122row63_col0{\n",
       "            background-color:  #ac5bac;\n",
       "            color:  #000000;\n",
       "        }#T_2e473b92_67ae_11eb_99e0_acde48001122row64_col0,#T_2e473b92_67ae_11eb_99e0_acde48001122row65_col0{\n",
       "            background-color:  #ad5dad;\n",
       "            color:  #000000;\n",
       "        }#T_2e473b92_67ae_11eb_99e0_acde48001122row66_col0,#T_2e473b92_67ae_11eb_99e0_acde48001122row67_col0{\n",
       "            background-color:  #ad5ead;\n",
       "            color:  #000000;\n",
       "        }#T_2e473b92_67ae_11eb_99e0_acde48001122row68_col0{\n",
       "            background-color:  #ad5fad;\n",
       "            color:  #000000;\n",
       "        }#T_2e473b92_67ae_11eb_99e0_acde48001122row69_col0{\n",
       "            background-color:  #ae61ae;\n",
       "            color:  #000000;\n",
       "        }#T_2e473b92_67ae_11eb_99e0_acde48001122row70_col0{\n",
       "            background-color:  #af63af;\n",
       "            color:  #000000;\n",
       "        }#T_2e473b92_67ae_11eb_99e0_acde48001122row71_col0{\n",
       "            background-color:  #b064b0;\n",
       "            color:  #000000;\n",
       "        }#T_2e473b92_67ae_11eb_99e0_acde48001122row72_col0{\n",
       "            background-color:  #b268b2;\n",
       "            color:  #000000;\n",
       "        }#T_2e473b92_67ae_11eb_99e0_acde48001122row73_col0{\n",
       "            background-color:  #b56eb5;\n",
       "            color:  #000000;\n",
       "        }#T_2e473b92_67ae_11eb_99e0_acde48001122row74_col0{\n",
       "            background-color:  #b773b7;\n",
       "            color:  #000000;\n",
       "        }#T_2e473b92_67ae_11eb_99e0_acde48001122row75_col0{\n",
       "            background-color:  #b774b7;\n",
       "            color:  #000000;\n",
       "        }#T_2e473b92_67ae_11eb_99e0_acde48001122row76_col0,#T_2e473b92_67ae_11eb_99e0_acde48001122row77_col0{\n",
       "            background-color:  #b875b8;\n",
       "            color:  #000000;\n",
       "        }#T_2e473b92_67ae_11eb_99e0_acde48001122row78_col0{\n",
       "            background-color:  #ba78ba;\n",
       "            color:  #000000;\n",
       "        }#T_2e473b92_67ae_11eb_99e0_acde48001122row79_col0{\n",
       "            background-color:  #bb7abb;\n",
       "            color:  #000000;\n",
       "        }#T_2e473b92_67ae_11eb_99e0_acde48001122row80_col0{\n",
       "            background-color:  #be82be;\n",
       "            color:  #000000;\n",
       "        }#T_2e473b92_67ae_11eb_99e0_acde48001122row81_col0{\n",
       "            background-color:  #c188c1;\n",
       "            color:  #000000;\n",
       "        }#T_2e473b92_67ae_11eb_99e0_acde48001122row82_col0{\n",
       "            background-color:  #c289c2;\n",
       "            color:  #000000;\n",
       "        }#T_2e473b92_67ae_11eb_99e0_acde48001122row83_col0{\n",
       "            background-color:  #c48ec4;\n",
       "            color:  #000000;\n",
       "        }#T_2e473b92_67ae_11eb_99e0_acde48001122row84_col0{\n",
       "            background-color:  #cc9ecc;\n",
       "            color:  #000000;\n",
       "        }#T_2e473b92_67ae_11eb_99e0_acde48001122row85_col0{\n",
       "            background-color:  #cda2cd;\n",
       "            color:  #000000;\n",
       "        }#T_2e473b92_67ae_11eb_99e0_acde48001122row86_col0{\n",
       "            background-color:  #cea4ce;\n",
       "            color:  #000000;\n",
       "        }#T_2e473b92_67ae_11eb_99e0_acde48001122row87_col0{\n",
       "            background-color:  #d1a9d1;\n",
       "            color:  #000000;\n",
       "        }#T_2e473b92_67ae_11eb_99e0_acde48001122row88_col0{\n",
       "            background-color:  #d6b4d6;\n",
       "            color:  #000000;\n",
       "        }#T_2e473b92_67ae_11eb_99e0_acde48001122row89_col0{\n",
       "            background-color:  #f1edf1;\n",
       "            color:  #000000;\n",
       "        }#T_2e473b92_67ae_11eb_99e0_acde48001122row90_col0{\n",
       "            background-color:  #f3f0f3;\n",
       "            color:  #000000;\n",
       "        }</style><table id=\"T_2e473b92_67ae_11eb_99e0_acde48001122\" ><thead>    <tr>        <th class=\"blank\" ></th>        <th class=\"blank level0\" ></th>        <th class=\"col_heading level0 col0\" >total_claim_amount</th>    </tr>    <tr>        <th class=\"index_name level0\" >insured_occupation</th>        <th class=\"index_name level1\" >insured_education_level</th>        <th class=\"blank\" ></th>    </tr></thead><tbody>\n",
       "                <tr>\n",
       "                        <th id=\"T_2e473b92_67ae_11eb_99e0_acde48001122level0_row0\" class=\"row_heading level0 row0\" >protective-serv</th>\n",
       "                        <th id=\"T_2e473b92_67ae_11eb_99e0_acde48001122level1_row0\" class=\"row_heading level1 row0\" >JD</th>\n",
       "                        <td id=\"T_2e473b92_67ae_11eb_99e0_acde48001122row0_col0\" class=\"data row0 col0\" >87890.000000</td>\n",
       "            </tr>\n",
       "            <tr>\n",
       "                        <th id=\"T_2e473b92_67ae_11eb_99e0_acde48001122level0_row1\" class=\"row_heading level0 row1\" >handlers-cleaners</th>\n",
       "                        <th id=\"T_2e473b92_67ae_11eb_99e0_acde48001122level1_row1\" class=\"row_heading level1 row1\" >Associate</th>\n",
       "                        <td id=\"T_2e473b92_67ae_11eb_99e0_acde48001122row1_col0\" class=\"data row1 col0\" >85900.000000</td>\n",
       "            </tr>\n",
       "            <tr>\n",
       "                        <th id=\"T_2e473b92_67ae_11eb_99e0_acde48001122level0_row2\" class=\"row_heading level0 row2\" >priv-house-serv</th>\n",
       "                        <th id=\"T_2e473b92_67ae_11eb_99e0_acde48001122level1_row2\" class=\"row_heading level1 row2\" >MD</th>\n",
       "                        <td id=\"T_2e473b92_67ae_11eb_99e0_acde48001122row2_col0\" class=\"data row2 col0\" >81353.333333</td>\n",
       "            </tr>\n",
       "            <tr>\n",
       "                        <th id=\"T_2e473b92_67ae_11eb_99e0_acde48001122level0_row3\" class=\"row_heading level0 row3\" >other-service</th>\n",
       "                        <th id=\"T_2e473b92_67ae_11eb_99e0_acde48001122level1_row3\" class=\"row_heading level1 row3\" >JD</th>\n",
       "                        <td id=\"T_2e473b92_67ae_11eb_99e0_acde48001122row3_col0\" class=\"data row3 col0\" >81135.000000</td>\n",
       "            </tr>\n",
       "            <tr>\n",
       "                        <th id=\"T_2e473b92_67ae_11eb_99e0_acde48001122level0_row4\" class=\"row_heading level0 row4\" >tech-support</th>\n",
       "                        <th id=\"T_2e473b92_67ae_11eb_99e0_acde48001122level1_row4\" class=\"row_heading level1 row4\" >Associate</th>\n",
       "                        <td id=\"T_2e473b92_67ae_11eb_99e0_acde48001122row4_col0\" class=\"data row4 col0\" >80113.333333</td>\n",
       "            </tr>\n",
       "            <tr>\n",
       "                        <th id=\"T_2e473b92_67ae_11eb_99e0_acde48001122level0_row5\" class=\"row_heading level0 row5\" rowspan=2>transport-moving</th>\n",
       "                        <th id=\"T_2e473b92_67ae_11eb_99e0_acde48001122level1_row5\" class=\"row_heading level1 row5\" >JD</th>\n",
       "                        <td id=\"T_2e473b92_67ae_11eb_99e0_acde48001122row5_col0\" class=\"data row5 col0\" >79225.000000</td>\n",
       "            </tr>\n",
       "            <tr>\n",
       "                                <th id=\"T_2e473b92_67ae_11eb_99e0_acde48001122level1_row6\" class=\"row_heading level1 row6\" >Associate</th>\n",
       "                        <td id=\"T_2e473b92_67ae_11eb_99e0_acde48001122row6_col0\" class=\"data row6 col0\" >76873.333333</td>\n",
       "            </tr>\n",
       "            <tr>\n",
       "                        <th id=\"T_2e473b92_67ae_11eb_99e0_acde48001122level0_row7\" class=\"row_heading level0 row7\" rowspan=3>protective-serv</th>\n",
       "                        <th id=\"T_2e473b92_67ae_11eb_99e0_acde48001122level1_row7\" class=\"row_heading level1 row7\" >High School</th>\n",
       "                        <td id=\"T_2e473b92_67ae_11eb_99e0_acde48001122row7_col0\" class=\"data row7 col0\" >76010.000000</td>\n",
       "            </tr>\n",
       "            <tr>\n",
       "                                <th id=\"T_2e473b92_67ae_11eb_99e0_acde48001122level1_row8\" class=\"row_heading level1 row8\" >MD</th>\n",
       "                        <td id=\"T_2e473b92_67ae_11eb_99e0_acde48001122row8_col0\" class=\"data row8 col0\" >75290.000000</td>\n",
       "            </tr>\n",
       "            <tr>\n",
       "                                <th id=\"T_2e473b92_67ae_11eb_99e0_acde48001122level1_row9\" class=\"row_heading level1 row9\" >College</th>\n",
       "                        <td id=\"T_2e473b92_67ae_11eb_99e0_acde48001122row9_col0\" class=\"data row9 col0\" >75185.000000</td>\n",
       "            </tr>\n",
       "            <tr>\n",
       "                        <th id=\"T_2e473b92_67ae_11eb_99e0_acde48001122level0_row10\" class=\"row_heading level0 row10\" >transport-moving</th>\n",
       "                        <th id=\"T_2e473b92_67ae_11eb_99e0_acde48001122level1_row10\" class=\"row_heading level1 row10\" >Masters</th>\n",
       "                        <td id=\"T_2e473b92_67ae_11eb_99e0_acde48001122row10_col0\" class=\"data row10 col0\" >74102.000000</td>\n",
       "            </tr>\n",
       "            <tr>\n",
       "                        <th id=\"T_2e473b92_67ae_11eb_99e0_acde48001122level0_row11\" class=\"row_heading level0 row11\" >adm-clerical</th>\n",
       "                        <th id=\"T_2e473b92_67ae_11eb_99e0_acde48001122level1_row11\" class=\"row_heading level1 row11\" >College</th>\n",
       "                        <td id=\"T_2e473b92_67ae_11eb_99e0_acde48001122row11_col0\" class=\"data row11 col0\" >74020.000000</td>\n",
       "            </tr>\n",
       "            <tr>\n",
       "                        <th id=\"T_2e473b92_67ae_11eb_99e0_acde48001122level0_row12\" class=\"row_heading level0 row12\" >prof-specialty</th>\n",
       "                        <th id=\"T_2e473b92_67ae_11eb_99e0_acde48001122level1_row12\" class=\"row_heading level1 row12\" >Masters</th>\n",
       "                        <td id=\"T_2e473b92_67ae_11eb_99e0_acde48001122row12_col0\" class=\"data row12 col0\" >73862.500000</td>\n",
       "            </tr>\n",
       "            <tr>\n",
       "                        <th id=\"T_2e473b92_67ae_11eb_99e0_acde48001122level0_row13\" class=\"row_heading level0 row13\" >craft-repair</th>\n",
       "                        <th id=\"T_2e473b92_67ae_11eb_99e0_acde48001122level1_row13\" class=\"row_heading level1 row13\" >MD</th>\n",
       "                        <td id=\"T_2e473b92_67ae_11eb_99e0_acde48001122row13_col0\" class=\"data row13 col0\" >72558.000000</td>\n",
       "            </tr>\n",
       "            <tr>\n",
       "                        <th id=\"T_2e473b92_67ae_11eb_99e0_acde48001122level0_row14\" class=\"row_heading level0 row14\" >exec-managerial</th>\n",
       "                        <th id=\"T_2e473b92_67ae_11eb_99e0_acde48001122level1_row14\" class=\"row_heading level1 row14\" >MD</th>\n",
       "                        <td id=\"T_2e473b92_67ae_11eb_99e0_acde48001122row14_col0\" class=\"data row14 col0\" >72233.333333</td>\n",
       "            </tr>\n",
       "            <tr>\n",
       "                        <th id=\"T_2e473b92_67ae_11eb_99e0_acde48001122level0_row15\" class=\"row_heading level0 row15\" >armed-forces</th>\n",
       "                        <th id=\"T_2e473b92_67ae_11eb_99e0_acde48001122level1_row15\" class=\"row_heading level1 row15\" >Associate</th>\n",
       "                        <td id=\"T_2e473b92_67ae_11eb_99e0_acde48001122row15_col0\" class=\"data row15 col0\" >72035.000000</td>\n",
       "            </tr>\n",
       "            <tr>\n",
       "                        <th id=\"T_2e473b92_67ae_11eb_99e0_acde48001122level0_row16\" class=\"row_heading level0 row16\" >craft-repair</th>\n",
       "                        <th id=\"T_2e473b92_67ae_11eb_99e0_acde48001122level1_row16\" class=\"row_heading level1 row16\" >JD</th>\n",
       "                        <td id=\"T_2e473b92_67ae_11eb_99e0_acde48001122row16_col0\" class=\"data row16 col0\" >71936.666667</td>\n",
       "            </tr>\n",
       "            <tr>\n",
       "                        <th id=\"T_2e473b92_67ae_11eb_99e0_acde48001122level0_row17\" class=\"row_heading level0 row17\" >adm-clerical</th>\n",
       "                        <th id=\"T_2e473b92_67ae_11eb_99e0_acde48001122level1_row17\" class=\"row_heading level1 row17\" >PhD</th>\n",
       "                        <td id=\"T_2e473b92_67ae_11eb_99e0_acde48001122row17_col0\" class=\"data row17 col0\" >71680.000000</td>\n",
       "            </tr>\n",
       "            <tr>\n",
       "                        <th id=\"T_2e473b92_67ae_11eb_99e0_acde48001122level0_row18\" class=\"row_heading level0 row18\" >armed-forces</th>\n",
       "                        <th id=\"T_2e473b92_67ae_11eb_99e0_acde48001122level1_row18\" class=\"row_heading level1 row18\" >High School</th>\n",
       "                        <td id=\"T_2e473b92_67ae_11eb_99e0_acde48001122row18_col0\" class=\"data row18 col0\" >71580.000000</td>\n",
       "            </tr>\n",
       "            <tr>\n",
       "                        <th id=\"T_2e473b92_67ae_11eb_99e0_acde48001122level0_row19\" class=\"row_heading level0 row19\" >prof-specialty</th>\n",
       "                        <th id=\"T_2e473b92_67ae_11eb_99e0_acde48001122level1_row19\" class=\"row_heading level1 row19\" >High School</th>\n",
       "                        <td id=\"T_2e473b92_67ae_11eb_99e0_acde48001122row19_col0\" class=\"data row19 col0\" >71520.000000</td>\n",
       "            </tr>\n",
       "            <tr>\n",
       "                        <th id=\"T_2e473b92_67ae_11eb_99e0_acde48001122level0_row20\" class=\"row_heading level0 row20\" >sales</th>\n",
       "                        <th id=\"T_2e473b92_67ae_11eb_99e0_acde48001122level1_row20\" class=\"row_heading level1 row20\" >MD</th>\n",
       "                        <td id=\"T_2e473b92_67ae_11eb_99e0_acde48001122row20_col0\" class=\"data row20 col0\" >71212.000000</td>\n",
       "            </tr>\n",
       "            <tr>\n",
       "                        <th id=\"T_2e473b92_67ae_11eb_99e0_acde48001122level0_row21\" class=\"row_heading level0 row21\" >armed-forces</th>\n",
       "                        <th id=\"T_2e473b92_67ae_11eb_99e0_acde48001122level1_row21\" class=\"row_heading level1 row21\" >College</th>\n",
       "                        <td id=\"T_2e473b92_67ae_11eb_99e0_acde48001122row21_col0\" class=\"data row21 col0\" >71170.000000</td>\n",
       "            </tr>\n",
       "            <tr>\n",
       "                        <th id=\"T_2e473b92_67ae_11eb_99e0_acde48001122level0_row22\" class=\"row_heading level0 row22\" >tech-support</th>\n",
       "                        <th id=\"T_2e473b92_67ae_11eb_99e0_acde48001122level1_row22\" class=\"row_heading level1 row22\" >High School</th>\n",
       "                        <td id=\"T_2e473b92_67ae_11eb_99e0_acde48001122row22_col0\" class=\"data row22 col0\" >71072.500000</td>\n",
       "            </tr>\n",
       "            <tr>\n",
       "                        <th id=\"T_2e473b92_67ae_11eb_99e0_acde48001122level0_row23\" class=\"row_heading level0 row23\" >craft-repair</th>\n",
       "                        <th id=\"T_2e473b92_67ae_11eb_99e0_acde48001122level1_row23\" class=\"row_heading level1 row23\" >PhD</th>\n",
       "                        <td id=\"T_2e473b92_67ae_11eb_99e0_acde48001122row23_col0\" class=\"data row23 col0\" >70606.666667</td>\n",
       "            </tr>\n",
       "            <tr>\n",
       "                        <th id=\"T_2e473b92_67ae_11eb_99e0_acde48001122level0_row24\" class=\"row_heading level0 row24\" rowspan=2>sales</th>\n",
       "                        <th id=\"T_2e473b92_67ae_11eb_99e0_acde48001122level1_row24\" class=\"row_heading level1 row24\" >PhD</th>\n",
       "                        <td id=\"T_2e473b92_67ae_11eb_99e0_acde48001122row24_col0\" class=\"data row24 col0\" >69935.000000</td>\n",
       "            </tr>\n",
       "            <tr>\n",
       "                                <th id=\"T_2e473b92_67ae_11eb_99e0_acde48001122level1_row25\" class=\"row_heading level1 row25\" >High School</th>\n",
       "                        <td id=\"T_2e473b92_67ae_11eb_99e0_acde48001122row25_col0\" class=\"data row25 col0\" >68983.333333</td>\n",
       "            </tr>\n",
       "            <tr>\n",
       "                        <th id=\"T_2e473b92_67ae_11eb_99e0_acde48001122level0_row26\" class=\"row_heading level0 row26\" >other-service</th>\n",
       "                        <th id=\"T_2e473b92_67ae_11eb_99e0_acde48001122level1_row26\" class=\"row_heading level1 row26\" >MD</th>\n",
       "                        <td id=\"T_2e473b92_67ae_11eb_99e0_acde48001122row26_col0\" class=\"data row26 col0\" >68805.000000</td>\n",
       "            </tr>\n",
       "            <tr>\n",
       "                        <th id=\"T_2e473b92_67ae_11eb_99e0_acde48001122level0_row27\" class=\"row_heading level0 row27\" >prof-specialty</th>\n",
       "                        <th id=\"T_2e473b92_67ae_11eb_99e0_acde48001122level1_row27\" class=\"row_heading level1 row27\" >PhD</th>\n",
       "                        <td id=\"T_2e473b92_67ae_11eb_99e0_acde48001122row27_col0\" class=\"data row27 col0\" >68343.333333</td>\n",
       "            </tr>\n",
       "            <tr>\n",
       "                        <th id=\"T_2e473b92_67ae_11eb_99e0_acde48001122level0_row28\" class=\"row_heading level0 row28\" >machine-op-inspct</th>\n",
       "                        <th id=\"T_2e473b92_67ae_11eb_99e0_acde48001122level1_row28\" class=\"row_heading level1 row28\" >Masters</th>\n",
       "                        <td id=\"T_2e473b92_67ae_11eb_99e0_acde48001122row28_col0\" class=\"data row28 col0\" >68092.500000</td>\n",
       "            </tr>\n",
       "            <tr>\n",
       "                        <th id=\"T_2e473b92_67ae_11eb_99e0_acde48001122level0_row29\" class=\"row_heading level0 row29\" >transport-moving</th>\n",
       "                        <th id=\"T_2e473b92_67ae_11eb_99e0_acde48001122level1_row29\" class=\"row_heading level1 row29\" >PhD</th>\n",
       "                        <td id=\"T_2e473b92_67ae_11eb_99e0_acde48001122row29_col0\" class=\"data row29 col0\" >67233.333333</td>\n",
       "            </tr>\n",
       "            <tr>\n",
       "                        <th id=\"T_2e473b92_67ae_11eb_99e0_acde48001122level0_row30\" class=\"row_heading level0 row30\" >protective-serv</th>\n",
       "                        <th id=\"T_2e473b92_67ae_11eb_99e0_acde48001122level1_row30\" class=\"row_heading level1 row30\" >Masters</th>\n",
       "                        <td id=\"T_2e473b92_67ae_11eb_99e0_acde48001122row30_col0\" class=\"data row30 col0\" >66693.333333</td>\n",
       "            </tr>\n",
       "            <tr>\n",
       "                        <th id=\"T_2e473b92_67ae_11eb_99e0_acde48001122level0_row31\" class=\"row_heading level0 row31\" >tech-support</th>\n",
       "                        <th id=\"T_2e473b92_67ae_11eb_99e0_acde48001122level1_row31\" class=\"row_heading level1 row31\" >JD</th>\n",
       "                        <td id=\"T_2e473b92_67ae_11eb_99e0_acde48001122row31_col0\" class=\"data row31 col0\" >66636.666667</td>\n",
       "            </tr>\n",
       "            <tr>\n",
       "                        <th id=\"T_2e473b92_67ae_11eb_99e0_acde48001122level0_row32\" class=\"row_heading level0 row32\" >machine-op-inspct</th>\n",
       "                        <th id=\"T_2e473b92_67ae_11eb_99e0_acde48001122level1_row32\" class=\"row_heading level1 row32\" >High School</th>\n",
       "                        <td id=\"T_2e473b92_67ae_11eb_99e0_acde48001122row32_col0\" class=\"data row32 col0\" >66290.000000</td>\n",
       "            </tr>\n",
       "            <tr>\n",
       "                        <th id=\"T_2e473b92_67ae_11eb_99e0_acde48001122level0_row33\" class=\"row_heading level0 row33\" rowspan=2>priv-house-serv</th>\n",
       "                        <th id=\"T_2e473b92_67ae_11eb_99e0_acde48001122level1_row33\" class=\"row_heading level1 row33\" >College</th>\n",
       "                        <td id=\"T_2e473b92_67ae_11eb_99e0_acde48001122row33_col0\" class=\"data row33 col0\" >66210.000000</td>\n",
       "            </tr>\n",
       "            <tr>\n",
       "                                <th id=\"T_2e473b92_67ae_11eb_99e0_acde48001122level1_row34\" class=\"row_heading level1 row34\" >Associate</th>\n",
       "                        <td id=\"T_2e473b92_67ae_11eb_99e0_acde48001122row34_col0\" class=\"data row34 col0\" >65540.000000</td>\n",
       "            </tr>\n",
       "            <tr>\n",
       "                        <th id=\"T_2e473b92_67ae_11eb_99e0_acde48001122level0_row35\" class=\"row_heading level0 row35\" >protective-serv</th>\n",
       "                        <th id=\"T_2e473b92_67ae_11eb_99e0_acde48001122level1_row35\" class=\"row_heading level1 row35\" >Associate</th>\n",
       "                        <td id=\"T_2e473b92_67ae_11eb_99e0_acde48001122row35_col0\" class=\"data row35 col0\" >65127.500000</td>\n",
       "            </tr>\n",
       "            <tr>\n",
       "                        <th id=\"T_2e473b92_67ae_11eb_99e0_acde48001122level0_row36\" class=\"row_heading level0 row36\" >farming-fishing</th>\n",
       "                        <th id=\"T_2e473b92_67ae_11eb_99e0_acde48001122level1_row36\" class=\"row_heading level1 row36\" >Masters</th>\n",
       "                        <td id=\"T_2e473b92_67ae_11eb_99e0_acde48001122row36_col0\" class=\"data row36 col0\" >64890.000000</td>\n",
       "            </tr>\n",
       "            <tr>\n",
       "                        <th id=\"T_2e473b92_67ae_11eb_99e0_acde48001122level0_row37\" class=\"row_heading level0 row37\" >exec-managerial</th>\n",
       "                        <th id=\"T_2e473b92_67ae_11eb_99e0_acde48001122level1_row37\" class=\"row_heading level1 row37\" >Masters</th>\n",
       "                        <td id=\"T_2e473b92_67ae_11eb_99e0_acde48001122row37_col0\" class=\"data row37 col0\" >64533.333333</td>\n",
       "            </tr>\n",
       "            <tr>\n",
       "                        <th id=\"T_2e473b92_67ae_11eb_99e0_acde48001122level0_row38\" class=\"row_heading level0 row38\" >handlers-cleaners</th>\n",
       "                        <th id=\"T_2e473b92_67ae_11eb_99e0_acde48001122level1_row38\" class=\"row_heading level1 row38\" >College</th>\n",
       "                        <td id=\"T_2e473b92_67ae_11eb_99e0_acde48001122row38_col0\" class=\"data row38 col0\" >64195.000000</td>\n",
       "            </tr>\n",
       "            <tr>\n",
       "                        <th id=\"T_2e473b92_67ae_11eb_99e0_acde48001122level0_row39\" class=\"row_heading level0 row39\" >tech-support</th>\n",
       "                        <th id=\"T_2e473b92_67ae_11eb_99e0_acde48001122level1_row39\" class=\"row_heading level1 row39\" >Masters</th>\n",
       "                        <td id=\"T_2e473b92_67ae_11eb_99e0_acde48001122row39_col0\" class=\"data row39 col0\" >64000.000000</td>\n",
       "            </tr>\n",
       "            <tr>\n",
       "                        <th id=\"T_2e473b92_67ae_11eb_99e0_acde48001122level0_row40\" class=\"row_heading level0 row40\" >handlers-cleaners</th>\n",
       "                        <th id=\"T_2e473b92_67ae_11eb_99e0_acde48001122level1_row40\" class=\"row_heading level1 row40\" >PhD</th>\n",
       "                        <td id=\"T_2e473b92_67ae_11eb_99e0_acde48001122row40_col0\" class=\"data row40 col0\" >63300.000000</td>\n",
       "            </tr>\n",
       "            <tr>\n",
       "                        <th id=\"T_2e473b92_67ae_11eb_99e0_acde48001122level0_row41\" class=\"row_heading level0 row41\" >prof-specialty</th>\n",
       "                        <th id=\"T_2e473b92_67ae_11eb_99e0_acde48001122level1_row41\" class=\"row_heading level1 row41\" >Associate</th>\n",
       "                        <td id=\"T_2e473b92_67ae_11eb_99e0_acde48001122row41_col0\" class=\"data row41 col0\" >63245.000000</td>\n",
       "            </tr>\n",
       "            <tr>\n",
       "                        <th id=\"T_2e473b92_67ae_11eb_99e0_acde48001122level0_row42\" class=\"row_heading level0 row42\" >sales</th>\n",
       "                        <th id=\"T_2e473b92_67ae_11eb_99e0_acde48001122level1_row42\" class=\"row_heading level1 row42\" >Masters</th>\n",
       "                        <td id=\"T_2e473b92_67ae_11eb_99e0_acde48001122row42_col0\" class=\"data row42 col0\" >63142.500000</td>\n",
       "            </tr>\n",
       "            <tr>\n",
       "                        <th id=\"T_2e473b92_67ae_11eb_99e0_acde48001122level0_row43\" class=\"row_heading level0 row43\" >transport-moving</th>\n",
       "                        <th id=\"T_2e473b92_67ae_11eb_99e0_acde48001122level1_row43\" class=\"row_heading level1 row43\" >MD</th>\n",
       "                        <td id=\"T_2e473b92_67ae_11eb_99e0_acde48001122row43_col0\" class=\"data row43 col0\" >63120.000000</td>\n",
       "            </tr>\n",
       "            <tr>\n",
       "                        <th id=\"T_2e473b92_67ae_11eb_99e0_acde48001122level0_row44\" class=\"row_heading level0 row44\" >other-service</th>\n",
       "                        <th id=\"T_2e473b92_67ae_11eb_99e0_acde48001122level1_row44\" class=\"row_heading level1 row44\" >Associate</th>\n",
       "                        <td id=\"T_2e473b92_67ae_11eb_99e0_acde48001122row44_col0\" class=\"data row44 col0\" >62700.000000</td>\n",
       "            </tr>\n",
       "            <tr>\n",
       "                        <th id=\"T_2e473b92_67ae_11eb_99e0_acde48001122level0_row45\" class=\"row_heading level0 row45\" rowspan=2>farming-fishing</th>\n",
       "                        <th id=\"T_2e473b92_67ae_11eb_99e0_acde48001122level1_row45\" class=\"row_heading level1 row45\" >High School</th>\n",
       "                        <td id=\"T_2e473b92_67ae_11eb_99e0_acde48001122row45_col0\" class=\"data row45 col0\" >61706.666667</td>\n",
       "            </tr>\n",
       "            <tr>\n",
       "                                <th id=\"T_2e473b92_67ae_11eb_99e0_acde48001122level1_row46\" class=\"row_heading level1 row46\" >JD</th>\n",
       "                        <td id=\"T_2e473b92_67ae_11eb_99e0_acde48001122row46_col0\" class=\"data row46 col0\" >60426.000000</td>\n",
       "            </tr>\n",
       "            <tr>\n",
       "                        <th id=\"T_2e473b92_67ae_11eb_99e0_acde48001122level0_row47\" class=\"row_heading level0 row47\" >exec-managerial</th>\n",
       "                        <th id=\"T_2e473b92_67ae_11eb_99e0_acde48001122level1_row47\" class=\"row_heading level1 row47\" >High School</th>\n",
       "                        <td id=\"T_2e473b92_67ae_11eb_99e0_acde48001122row47_col0\" class=\"data row47 col0\" >59628.333333</td>\n",
       "            </tr>\n",
       "            <tr>\n",
       "                        <th id=\"T_2e473b92_67ae_11eb_99e0_acde48001122level0_row48\" class=\"row_heading level0 row48\" >adm-clerical</th>\n",
       "                        <th id=\"T_2e473b92_67ae_11eb_99e0_acde48001122level1_row48\" class=\"row_heading level1 row48\" >JD</th>\n",
       "                        <td id=\"T_2e473b92_67ae_11eb_99e0_acde48001122row48_col0\" class=\"data row48 col0\" >59400.000000</td>\n",
       "            </tr>\n",
       "            <tr>\n",
       "                        <th id=\"T_2e473b92_67ae_11eb_99e0_acde48001122level0_row49\" class=\"row_heading level0 row49\" >tech-support</th>\n",
       "                        <th id=\"T_2e473b92_67ae_11eb_99e0_acde48001122level1_row49\" class=\"row_heading level1 row49\" >MD</th>\n",
       "                        <td id=\"T_2e473b92_67ae_11eb_99e0_acde48001122row49_col0\" class=\"data row49 col0\" >59333.333333</td>\n",
       "            </tr>\n",
       "            <tr>\n",
       "                        <th id=\"T_2e473b92_67ae_11eb_99e0_acde48001122level0_row50\" class=\"row_heading level0 row50\" >other-service</th>\n",
       "                        <th id=\"T_2e473b92_67ae_11eb_99e0_acde48001122level1_row50\" class=\"row_heading level1 row50\" >PhD</th>\n",
       "                        <td id=\"T_2e473b92_67ae_11eb_99e0_acde48001122row50_col0\" class=\"data row50 col0\" >59000.000000</td>\n",
       "            </tr>\n",
       "            <tr>\n",
       "                        <th id=\"T_2e473b92_67ae_11eb_99e0_acde48001122level0_row51\" class=\"row_heading level0 row51\" >machine-op-inspct</th>\n",
       "                        <th id=\"T_2e473b92_67ae_11eb_99e0_acde48001122level1_row51\" class=\"row_heading level1 row51\" >PhD</th>\n",
       "                        <td id=\"T_2e473b92_67ae_11eb_99e0_acde48001122row51_col0\" class=\"data row51 col0\" >58942.000000</td>\n",
       "            </tr>\n",
       "            <tr>\n",
       "                        <th id=\"T_2e473b92_67ae_11eb_99e0_acde48001122level0_row52\" class=\"row_heading level0 row52\" >adm-clerical</th>\n",
       "                        <th id=\"T_2e473b92_67ae_11eb_99e0_acde48001122level1_row52\" class=\"row_heading level1 row52\" >Associate</th>\n",
       "                        <td id=\"T_2e473b92_67ae_11eb_99e0_acde48001122row52_col0\" class=\"data row52 col0\" >58790.000000</td>\n",
       "            </tr>\n",
       "            <tr>\n",
       "                        <th id=\"T_2e473b92_67ae_11eb_99e0_acde48001122level0_row53\" class=\"row_heading level0 row53\" >transport-moving</th>\n",
       "                        <th id=\"T_2e473b92_67ae_11eb_99e0_acde48001122level1_row53\" class=\"row_heading level1 row53\" >High School</th>\n",
       "                        <td id=\"T_2e473b92_67ae_11eb_99e0_acde48001122row53_col0\" class=\"data row53 col0\" >58677.500000</td>\n",
       "            </tr>\n",
       "            <tr>\n",
       "                        <th id=\"T_2e473b92_67ae_11eb_99e0_acde48001122level0_row54\" class=\"row_heading level0 row54\" >farming-fishing</th>\n",
       "                        <th id=\"T_2e473b92_67ae_11eb_99e0_acde48001122level1_row54\" class=\"row_heading level1 row54\" >College</th>\n",
       "                        <td id=\"T_2e473b92_67ae_11eb_99e0_acde48001122row54_col0\" class=\"data row54 col0\" >58506.666667</td>\n",
       "            </tr>\n",
       "            <tr>\n",
       "                        <th id=\"T_2e473b92_67ae_11eb_99e0_acde48001122level0_row55\" class=\"row_heading level0 row55\" >machine-op-inspct</th>\n",
       "                        <th id=\"T_2e473b92_67ae_11eb_99e0_acde48001122level1_row55\" class=\"row_heading level1 row55\" >College</th>\n",
       "                        <td id=\"T_2e473b92_67ae_11eb_99e0_acde48001122row55_col0\" class=\"data row55 col0\" >58400.000000</td>\n",
       "            </tr>\n",
       "            <tr>\n",
       "                        <th id=\"T_2e473b92_67ae_11eb_99e0_acde48001122level0_row56\" class=\"row_heading level0 row56\" >sales</th>\n",
       "                        <th id=\"T_2e473b92_67ae_11eb_99e0_acde48001122level1_row56\" class=\"row_heading level1 row56\" >JD</th>\n",
       "                        <td id=\"T_2e473b92_67ae_11eb_99e0_acde48001122row56_col0\" class=\"data row56 col0\" >58266.666667</td>\n",
       "            </tr>\n",
       "            <tr>\n",
       "                        <th id=\"T_2e473b92_67ae_11eb_99e0_acde48001122level0_row57\" class=\"row_heading level0 row57\" >armed-forces</th>\n",
       "                        <th id=\"T_2e473b92_67ae_11eb_99e0_acde48001122level1_row57\" class=\"row_heading level1 row57\" >PhD</th>\n",
       "                        <td id=\"T_2e473b92_67ae_11eb_99e0_acde48001122row57_col0\" class=\"data row57 col0\" >57385.000000</td>\n",
       "            </tr>\n",
       "            <tr>\n",
       "                        <th id=\"T_2e473b92_67ae_11eb_99e0_acde48001122level0_row58\" class=\"row_heading level0 row58\" >exec-managerial</th>\n",
       "                        <th id=\"T_2e473b92_67ae_11eb_99e0_acde48001122level1_row58\" class=\"row_heading level1 row58\" >PhD</th>\n",
       "                        <td id=\"T_2e473b92_67ae_11eb_99e0_acde48001122row58_col0\" class=\"data row58 col0\" >56450.000000</td>\n",
       "            </tr>\n",
       "            <tr>\n",
       "                        <th id=\"T_2e473b92_67ae_11eb_99e0_acde48001122level0_row59\" class=\"row_heading level0 row59\" >other-service</th>\n",
       "                        <th id=\"T_2e473b92_67ae_11eb_99e0_acde48001122level1_row59\" class=\"row_heading level1 row59\" >College</th>\n",
       "                        <td id=\"T_2e473b92_67ae_11eb_99e0_acde48001122row59_col0\" class=\"data row59 col0\" >56333.333333</td>\n",
       "            </tr>\n",
       "            <tr>\n",
       "                        <th id=\"T_2e473b92_67ae_11eb_99e0_acde48001122level0_row60\" class=\"row_heading level0 row60\" >exec-managerial</th>\n",
       "                        <th id=\"T_2e473b92_67ae_11eb_99e0_acde48001122level1_row60\" class=\"row_heading level1 row60\" >Associate</th>\n",
       "                        <td id=\"T_2e473b92_67ae_11eb_99e0_acde48001122row60_col0\" class=\"data row60 col0\" >56260.000000</td>\n",
       "            </tr>\n",
       "            <tr>\n",
       "                        <th id=\"T_2e473b92_67ae_11eb_99e0_acde48001122level0_row61\" class=\"row_heading level0 row61\" >sales</th>\n",
       "                        <th id=\"T_2e473b92_67ae_11eb_99e0_acde48001122level1_row61\" class=\"row_heading level1 row61\" >College</th>\n",
       "                        <td id=\"T_2e473b92_67ae_11eb_99e0_acde48001122row61_col0\" class=\"data row61 col0\" >56100.000000</td>\n",
       "            </tr>\n",
       "            <tr>\n",
       "                        <th id=\"T_2e473b92_67ae_11eb_99e0_acde48001122level0_row62\" class=\"row_heading level0 row62\" >prof-specialty</th>\n",
       "                        <th id=\"T_2e473b92_67ae_11eb_99e0_acde48001122level1_row62\" class=\"row_heading level1 row62\" >MD</th>\n",
       "                        <td id=\"T_2e473b92_67ae_11eb_99e0_acde48001122row62_col0\" class=\"data row62 col0\" >55676.666667</td>\n",
       "            </tr>\n",
       "            <tr>\n",
       "                        <th id=\"T_2e473b92_67ae_11eb_99e0_acde48001122level0_row63\" class=\"row_heading level0 row63\" >protective-serv</th>\n",
       "                        <th id=\"T_2e473b92_67ae_11eb_99e0_acde48001122level1_row63\" class=\"row_heading level1 row63\" >PhD</th>\n",
       "                        <td id=\"T_2e473b92_67ae_11eb_99e0_acde48001122row63_col0\" class=\"data row63 col0\" >55660.000000</td>\n",
       "            </tr>\n",
       "            <tr>\n",
       "                        <th id=\"T_2e473b92_67ae_11eb_99e0_acde48001122level0_row64\" class=\"row_heading level0 row64\" >tech-support</th>\n",
       "                        <th id=\"T_2e473b92_67ae_11eb_99e0_acde48001122level1_row64\" class=\"row_heading level1 row64\" >PhD</th>\n",
       "                        <td id=\"T_2e473b92_67ae_11eb_99e0_acde48001122row64_col0\" class=\"data row64 col0\" >55215.000000</td>\n",
       "            </tr>\n",
       "            <tr>\n",
       "                        <th id=\"T_2e473b92_67ae_11eb_99e0_acde48001122level0_row65\" class=\"row_heading level0 row65\" >priv-house-serv</th>\n",
       "                        <th id=\"T_2e473b92_67ae_11eb_99e0_acde48001122level1_row65\" class=\"row_heading level1 row65\" >Masters</th>\n",
       "                        <td id=\"T_2e473b92_67ae_11eb_99e0_acde48001122row65_col0\" class=\"data row65 col0\" >55170.000000</td>\n",
       "            </tr>\n",
       "            <tr>\n",
       "                        <th id=\"T_2e473b92_67ae_11eb_99e0_acde48001122level0_row66\" class=\"row_heading level0 row66\" >other-service</th>\n",
       "                        <th id=\"T_2e473b92_67ae_11eb_99e0_acde48001122level1_row66\" class=\"row_heading level1 row66\" >Masters</th>\n",
       "                        <td id=\"T_2e473b92_67ae_11eb_99e0_acde48001122row66_col0\" class=\"data row66 col0\" >54840.000000</td>\n",
       "            </tr>\n",
       "            <tr>\n",
       "                        <th id=\"T_2e473b92_67ae_11eb_99e0_acde48001122level0_row67\" class=\"row_heading level0 row67\" >prof-specialty</th>\n",
       "                        <th id=\"T_2e473b92_67ae_11eb_99e0_acde48001122level1_row67\" class=\"row_heading level1 row67\" >College</th>\n",
       "                        <td id=\"T_2e473b92_67ae_11eb_99e0_acde48001122row67_col0\" class=\"data row67 col0\" >54803.333333</td>\n",
       "            </tr>\n",
       "            <tr>\n",
       "                        <th id=\"T_2e473b92_67ae_11eb_99e0_acde48001122level0_row68\" class=\"row_heading level0 row68\" >handlers-cleaners</th>\n",
       "                        <th id=\"T_2e473b92_67ae_11eb_99e0_acde48001122level1_row68\" class=\"row_heading level1 row68\" >JD</th>\n",
       "                        <td id=\"T_2e473b92_67ae_11eb_99e0_acde48001122row68_col0\" class=\"data row68 col0\" >54390.000000</td>\n",
       "            </tr>\n",
       "            <tr>\n",
       "                        <th id=\"T_2e473b92_67ae_11eb_99e0_acde48001122level0_row69\" class=\"row_heading level0 row69\" >transport-moving</th>\n",
       "                        <th id=\"T_2e473b92_67ae_11eb_99e0_acde48001122level1_row69\" class=\"row_heading level1 row69\" >College</th>\n",
       "                        <td id=\"T_2e473b92_67ae_11eb_99e0_acde48001122row69_col0\" class=\"data row69 col0\" >53730.000000</td>\n",
       "            </tr>\n",
       "            <tr>\n",
       "                        <th id=\"T_2e473b92_67ae_11eb_99e0_acde48001122level0_row70\" class=\"row_heading level0 row70\" >machine-op-inspct</th>\n",
       "                        <th id=\"T_2e473b92_67ae_11eb_99e0_acde48001122level1_row70\" class=\"row_heading level1 row70\" >JD</th>\n",
       "                        <td id=\"T_2e473b92_67ae_11eb_99e0_acde48001122row70_col0\" class=\"data row70 col0\" >53280.000000</td>\n",
       "            </tr>\n",
       "            <tr>\n",
       "                        <th id=\"T_2e473b92_67ae_11eb_99e0_acde48001122level0_row71\" class=\"row_heading level0 row71\" >farming-fishing</th>\n",
       "                        <th id=\"T_2e473b92_67ae_11eb_99e0_acde48001122level1_row71\" class=\"row_heading level1 row71\" >PhD</th>\n",
       "                        <td id=\"T_2e473b92_67ae_11eb_99e0_acde48001122row71_col0\" class=\"data row71 col0\" >52800.000000</td>\n",
       "            </tr>\n",
       "            <tr>\n",
       "                        <th id=\"T_2e473b92_67ae_11eb_99e0_acde48001122level0_row72\" class=\"row_heading level0 row72\" >exec-managerial</th>\n",
       "                        <th id=\"T_2e473b92_67ae_11eb_99e0_acde48001122level1_row72\" class=\"row_heading level1 row72\" >College</th>\n",
       "                        <td id=\"T_2e473b92_67ae_11eb_99e0_acde48001122row72_col0\" class=\"data row72 col0\" >51234.000000</td>\n",
       "            </tr>\n",
       "            <tr>\n",
       "                        <th id=\"T_2e473b92_67ae_11eb_99e0_acde48001122level0_row73\" class=\"row_heading level0 row73\" >machine-op-inspct</th>\n",
       "                        <th id=\"T_2e473b92_67ae_11eb_99e0_acde48001122level1_row73\" class=\"row_heading level1 row73\" >Associate</th>\n",
       "                        <td id=\"T_2e473b92_67ae_11eb_99e0_acde48001122row73_col0\" class=\"data row73 col0\" >49072.500000</td>\n",
       "            </tr>\n",
       "            <tr>\n",
       "                        <th id=\"T_2e473b92_67ae_11eb_99e0_acde48001122level0_row74\" class=\"row_heading level0 row74\" >handlers-cleaners</th>\n",
       "                        <th id=\"T_2e473b92_67ae_11eb_99e0_acde48001122level1_row74\" class=\"row_heading level1 row74\" >High School</th>\n",
       "                        <td id=\"T_2e473b92_67ae_11eb_99e0_acde48001122row74_col0\" class=\"data row74 col0\" >47700.000000</td>\n",
       "            </tr>\n",
       "            <tr>\n",
       "                        <th id=\"T_2e473b92_67ae_11eb_99e0_acde48001122level0_row75\" class=\"row_heading level0 row75\" >farming-fishing</th>\n",
       "                        <th id=\"T_2e473b92_67ae_11eb_99e0_acde48001122level1_row75\" class=\"row_heading level1 row75\" >MD</th>\n",
       "                        <td id=\"T_2e473b92_67ae_11eb_99e0_acde48001122row75_col0\" class=\"data row75 col0\" >47233.333333</td>\n",
       "            </tr>\n",
       "            <tr>\n",
       "                        <th id=\"T_2e473b92_67ae_11eb_99e0_acde48001122level0_row76\" class=\"row_heading level0 row76\" >exec-managerial</th>\n",
       "                        <th id=\"T_2e473b92_67ae_11eb_99e0_acde48001122level1_row76\" class=\"row_heading level1 row76\" >JD</th>\n",
       "                        <td id=\"T_2e473b92_67ae_11eb_99e0_acde48001122row76_col0\" class=\"data row76 col0\" >47010.000000</td>\n",
       "            </tr>\n",
       "            <tr>\n",
       "                        <th id=\"T_2e473b92_67ae_11eb_99e0_acde48001122level0_row77\" class=\"row_heading level0 row77\" >armed-forces</th>\n",
       "                        <th id=\"T_2e473b92_67ae_11eb_99e0_acde48001122level1_row77\" class=\"row_heading level1 row77\" >MD</th>\n",
       "                        <td id=\"T_2e473b92_67ae_11eb_99e0_acde48001122row77_col0\" class=\"data row77 col0\" >46850.000000</td>\n",
       "            </tr>\n",
       "            <tr>\n",
       "                        <th id=\"T_2e473b92_67ae_11eb_99e0_acde48001122level0_row78\" class=\"row_heading level0 row78\" >tech-support</th>\n",
       "                        <th id=\"T_2e473b92_67ae_11eb_99e0_acde48001122level1_row78\" class=\"row_heading level1 row78\" >College</th>\n",
       "                        <td id=\"T_2e473b92_67ae_11eb_99e0_acde48001122row78_col0\" class=\"data row78 col0\" >45540.000000</td>\n",
       "            </tr>\n",
       "            <tr>\n",
       "                        <th id=\"T_2e473b92_67ae_11eb_99e0_acde48001122level0_row79\" class=\"row_heading level0 row79\" >craft-repair</th>\n",
       "                        <th id=\"T_2e473b92_67ae_11eb_99e0_acde48001122level1_row79\" class=\"row_heading level1 row79\" >College</th>\n",
       "                        <td id=\"T_2e473b92_67ae_11eb_99e0_acde48001122row79_col0\" class=\"data row79 col0\" >44880.000000</td>\n",
       "            </tr>\n",
       "            <tr>\n",
       "                        <th id=\"T_2e473b92_67ae_11eb_99e0_acde48001122level0_row80\" class=\"row_heading level0 row80\" >armed-forces</th>\n",
       "                        <th id=\"T_2e473b92_67ae_11eb_99e0_acde48001122level1_row80\" class=\"row_heading level1 row80\" >JD</th>\n",
       "                        <td id=\"T_2e473b92_67ae_11eb_99e0_acde48001122row80_col0\" class=\"data row80 col0\" >42300.000000</td>\n",
       "            </tr>\n",
       "            <tr>\n",
       "                        <th id=\"T_2e473b92_67ae_11eb_99e0_acde48001122level0_row81\" class=\"row_heading level0 row81\" >sales</th>\n",
       "                        <th id=\"T_2e473b92_67ae_11eb_99e0_acde48001122level1_row81\" class=\"row_heading level1 row81\" >Associate</th>\n",
       "                        <td id=\"T_2e473b92_67ae_11eb_99e0_acde48001122row81_col0\" class=\"data row81 col0\" >39990.000000</td>\n",
       "            </tr>\n",
       "            <tr>\n",
       "                        <th id=\"T_2e473b92_67ae_11eb_99e0_acde48001122level0_row82\" class=\"row_heading level0 row82\" >priv-house-serv</th>\n",
       "                        <th id=\"T_2e473b92_67ae_11eb_99e0_acde48001122level1_row82\" class=\"row_heading level1 row82\" >JD</th>\n",
       "                        <td id=\"T_2e473b92_67ae_11eb_99e0_acde48001122row82_col0\" class=\"data row82 col0\" >39680.000000</td>\n",
       "            </tr>\n",
       "            <tr>\n",
       "                        <th id=\"T_2e473b92_67ae_11eb_99e0_acde48001122level0_row83\" class=\"row_heading level0 row83\" >craft-repair</th>\n",
       "                        <th id=\"T_2e473b92_67ae_11eb_99e0_acde48001122level1_row83\" class=\"row_heading level1 row83\" >Associate</th>\n",
       "                        <td id=\"T_2e473b92_67ae_11eb_99e0_acde48001122row83_col0\" class=\"data row83 col0\" >38005.000000</td>\n",
       "            </tr>\n",
       "            <tr>\n",
       "                        <th id=\"T_2e473b92_67ae_11eb_99e0_acde48001122level0_row84\" class=\"row_heading level0 row84\" >machine-op-inspct</th>\n",
       "                        <th id=\"T_2e473b92_67ae_11eb_99e0_acde48001122level1_row84\" class=\"row_heading level1 row84\" >MD</th>\n",
       "                        <td id=\"T_2e473b92_67ae_11eb_99e0_acde48001122row84_col0\" class=\"data row84 col0\" >32332.500000</td>\n",
       "            </tr>\n",
       "            <tr>\n",
       "                        <th id=\"T_2e473b92_67ae_11eb_99e0_acde48001122level0_row85\" class=\"row_heading level0 row85\" >armed-forces</th>\n",
       "                        <th id=\"T_2e473b92_67ae_11eb_99e0_acde48001122level1_row85\" class=\"row_heading level1 row85\" >Masters</th>\n",
       "                        <td id=\"T_2e473b92_67ae_11eb_99e0_acde48001122row85_col0\" class=\"data row85 col0\" >31230.000000</td>\n",
       "            </tr>\n",
       "            <tr>\n",
       "                        <th id=\"T_2e473b92_67ae_11eb_99e0_acde48001122level0_row86\" class=\"row_heading level0 row86\" >craft-repair</th>\n",
       "                        <th id=\"T_2e473b92_67ae_11eb_99e0_acde48001122level1_row86\" class=\"row_heading level1 row86\" >High School</th>\n",
       "                        <td id=\"T_2e473b92_67ae_11eb_99e0_acde48001122row86_col0\" class=\"data row86 col0\" >30528.000000</td>\n",
       "            </tr>\n",
       "            <tr>\n",
       "                        <th id=\"T_2e473b92_67ae_11eb_99e0_acde48001122level0_row87\" class=\"row_heading level0 row87\" >priv-house-serv</th>\n",
       "                        <th id=\"T_2e473b92_67ae_11eb_99e0_acde48001122level1_row87\" class=\"row_heading level1 row87\" >PhD</th>\n",
       "                        <td id=\"T_2e473b92_67ae_11eb_99e0_acde48001122row87_col0\" class=\"data row87 col0\" >28600.000000</td>\n",
       "            </tr>\n",
       "            <tr>\n",
       "                        <th id=\"T_2e473b92_67ae_11eb_99e0_acde48001122level0_row88\" class=\"row_heading level0 row88\" >adm-clerical</th>\n",
       "                        <th id=\"T_2e473b92_67ae_11eb_99e0_acde48001122level1_row88\" class=\"row_heading level1 row88\" >High School</th>\n",
       "                        <td id=\"T_2e473b92_67ae_11eb_99e0_acde48001122row88_col0\" class=\"data row88 col0\" >24693.333333</td>\n",
       "            </tr>\n",
       "            <tr>\n",
       "                        <th id=\"T_2e473b92_67ae_11eb_99e0_acde48001122level0_row89\" class=\"row_heading level0 row89\" >handlers-cleaners</th>\n",
       "                        <th id=\"T_2e473b92_67ae_11eb_99e0_acde48001122level1_row89\" class=\"row_heading level1 row89\" >Masters</th>\n",
       "                        <td id=\"T_2e473b92_67ae_11eb_99e0_acde48001122row89_col0\" class=\"data row89 col0\" >4620.000000</td>\n",
       "            </tr>\n",
       "            <tr>\n",
       "                        <th id=\"T_2e473b92_67ae_11eb_99e0_acde48001122level0_row90\" class=\"row_heading level0 row90\" >adm-clerical</th>\n",
       "                        <th id=\"T_2e473b92_67ae_11eb_99e0_acde48001122level1_row90\" class=\"row_heading level1 row90\" >Masters</th>\n",
       "                        <td id=\"T_2e473b92_67ae_11eb_99e0_acde48001122row90_col0\" class=\"data row90 col0\" >3600.000000</td>\n",
       "            </tr>\n",
       "    </tbody></table>"
      ],
      "text/plain": [
       "<pandas.io.formats.style.Styler at 0x7fe2bfa841d0>"
      ]
     },
     "execution_count": 73,
     "metadata": {},
     "output_type": "execute_result"
    }
   ],
   "source": [
    "cm = sns.light_palette(\"purple\", as_cmap=True)\n",
    "\n",
    "fraud_claims_pivot.style.background_gradient(cmap=cm)"
   ]
  },
  {
   "cell_type": "markdown",
   "metadata": {},
   "source": [
    "- People from occupation sector Protective-services and education level of JD has highest fraud claimed amount of 87,890\\$"
   ]
  },
  {
   "cell_type": "markdown",
   "metadata": {},
   "source": [
    "# Does customers hobbies tell us anything about Fraud?"
   ]
  },
  {
   "cell_type": "code",
   "execution_count": 74,
   "metadata": {},
   "outputs": [
    {
     "data": {
      "image/png": "[encoded data removed]",
      "text/plain": [
       "<Figure size 1152x432 with 1 Axes>"
      ]
     },
     "metadata": {},
     "output_type": "display_data"
    }
   ],
   "source": [
    "plt.figure(figsize=(16,6))\n",
    "plt.title(\"Count plot for Fraud transaction 'Y' wrt Hobbies\",fontsize=20)\n",
    "\n",
    "# count plot here\n",
    "sns.countplot(\n",
    "    'insured_hobbies',\n",
    "    data = fraud_df\n",
    ")\n",
    "\n",
    "plt.xticks(rotation=45)\n",
    "plt.grid(True)\n",
    "plt.tight_layout()\n",
    "plt.show()"
   ]
  },
  {
   "cell_type": "markdown",
   "metadata": {},
   "source": [
    "- People who play more chess have claimed more fraud followed by crossfit"
   ]
  },
  {
   "cell_type": "markdown",
   "metadata": {},
   "source": [
    "# What about gender?"
   ]
  },
  {
   "cell_type": "code",
   "execution_count": 76,
   "metadata": {},
   "outputs": [],
   "source": [
    "sns.barplot?"
   ]
  },
  {
   "cell_type": "code",
   "execution_count": 75,
   "metadata": {},
   "outputs": [
    {
     "data": {
      "image/png": "[encoded data removed]",
      "text/plain": [
       "<Figure size 1008x360 with 1 Axes>"
      ]
     },
     "metadata": {},
     "output_type": "display_data"
    }
   ],
   "source": [
    "plt.figure(figsize=(14,5))\n",
    "plt.title(\"Bar plot for Fraud transaction wrt Gender\",fontsize=20)\n",
    "\n",
    "# bar plot here\n",
    "sns.barplot(\n",
    "    x='insured_sex',\n",
    "    y='total_claim_amount',\n",
    "    data=insurance_df\n",
    ")\n",
    "\n",
    "\n",
    "plt.xticks(rotation=45)\n",
    "plt.grid(True)\n",
    "plt.tight_layout()\n",
    "plt.show()"
   ]
  },
  {
   "cell_type": "markdown",
   "metadata": {},
   "source": [
    "- No clear evidence there's a difference between Male and Female"
   ]
  },
  {
   "cell_type": "markdown",
   "metadata": {},
   "source": [
    "## Observe if there's anything about the Incident Type & Collision that trigger more insurance claims"
   ]
  },
  {
   "cell_type": "code",
   "execution_count": 77,
   "metadata": {
    "scrolled": true
   },
   "outputs": [
    {
     "data": {
      "text/html": [
       "<div>\n",
       "<style scoped>\n",
       "    .dataframe tbody tr th:only-of-type {\n",
       "        vertical-align: middle;\n",
       "    }\n",
       "\n",
       "    .dataframe tbody tr th {\n",
       "        vertical-align: top;\n",
       "    }\n",
       "\n",
       "    .dataframe thead th {\n",
       "        text-align: right;\n",
       "    }\n",
       "</style>\n",
       "<table border=\"1\" class=\"dataframe\">\n",
       "  <thead>\n",
       "    <tr style=\"text-align: right;\">\n",
       "      <th></th>\n",
       "      <th></th>\n",
       "      <th>incident_hour_of_the_day</th>\n",
       "      <th>number_of_vehicles_involved</th>\n",
       "      <th>total_claim_amount</th>\n",
       "      <th>vehicle_claim</th>\n",
       "    </tr>\n",
       "    <tr>\n",
       "      <th>incident_type</th>\n",
       "      <th>collision_type</th>\n",
       "      <th></th>\n",
       "      <th></th>\n",
       "      <th></th>\n",
       "      <th></th>\n",
       "    </tr>\n",
       "  </thead>\n",
       "  <tbody>\n",
       "    <tr>\n",
       "      <th rowspan=\"3\" valign=\"top\">Single Vehicle Collision</th>\n",
       "      <th>Front Collision</th>\n",
       "      <td>11.595238</td>\n",
       "      <td>1.000000</td>\n",
       "      <td>66596.190476</td>\n",
       "      <td>49030.000000</td>\n",
       "    </tr>\n",
       "    <tr>\n",
       "      <th>Side Collision</th>\n",
       "      <td>11.787879</td>\n",
       "      <td>1.000000</td>\n",
       "      <td>68009.696970</td>\n",
       "      <td>48481.212121</td>\n",
       "    </tr>\n",
       "    <tr>\n",
       "      <th>Rear Collision</th>\n",
       "      <td>11.071429</td>\n",
       "      <td>1.000000</td>\n",
       "      <td>65782.857143</td>\n",
       "      <td>47616.666667</td>\n",
       "    </tr>\n",
       "    <tr>\n",
       "      <th rowspan=\"3\" valign=\"top\">Multi-vehicle Collision</th>\n",
       "      <th>Side Collision</th>\n",
       "      <td>11.432432</td>\n",
       "      <td>2.972973</td>\n",
       "      <td>62281.621622</td>\n",
       "      <td>45308.648649</td>\n",
       "    </tr>\n",
       "    <tr>\n",
       "      <th>Front Collision</th>\n",
       "      <td>11.892857</td>\n",
       "      <td>2.964286</td>\n",
       "      <td>60970.000000</td>\n",
       "      <td>43860.000000</td>\n",
       "    </tr>\n",
       "    <tr>\n",
       "      <th>Rear Collision</th>\n",
       "      <td>14.142857</td>\n",
       "      <td>3.081633</td>\n",
       "      <td>61152.448980</td>\n",
       "      <td>43474.693878</td>\n",
       "    </tr>\n",
       "    <tr>\n",
       "      <th>Parked Car</th>\n",
       "      <th>?</th>\n",
       "      <td>7.000000</td>\n",
       "      <td>1.000000</td>\n",
       "      <td>5093.750000</td>\n",
       "      <td>3711.250000</td>\n",
       "    </tr>\n",
       "    <tr>\n",
       "      <th>Vehicle Theft</th>\n",
       "      <th>?</th>\n",
       "      <td>5.375000</td>\n",
       "      <td>1.000000</td>\n",
       "      <td>5197.500000</td>\n",
       "      <td>3665.000000</td>\n",
       "    </tr>\n",
       "  </tbody>\n",
       "</table>\n",
       "</div>"
      ],
      "text/plain": [
       "                                          incident_hour_of_the_day  \\\n",
       "incident_type            collision_type                              \n",
       "Single Vehicle Collision Front Collision                 11.595238   \n",
       "                         Side Collision                  11.787879   \n",
       "                         Rear Collision                  11.071429   \n",
       "Multi-vehicle Collision  Side Collision                  11.432432   \n",
       "                         Front Collision                 11.892857   \n",
       "                         Rear Collision                  14.142857   \n",
       "Parked Car               ?                                7.000000   \n",
       "Vehicle Theft            ?                                5.375000   \n",
       "\n",
       "                                          number_of_vehicles_involved  \\\n",
       "incident_type            collision_type                                 \n",
       "Single Vehicle Collision Front Collision                     1.000000   \n",
       "                         Side Collision                      1.000000   \n",
       "                         Rear Collision                      1.000000   \n",
       "Multi-vehicle Collision  Side Collision                      2.972973   \n",
       "                         Front Collision                     2.964286   \n",
       "                         Rear Collision                      3.081633   \n",
       "Parked Car               ?                                   1.000000   \n",
       "Vehicle Theft            ?                                   1.000000   \n",
       "\n",
       "                                          total_claim_amount  vehicle_claim  \n",
       "incident_type            collision_type                                      \n",
       "Single Vehicle Collision Front Collision        66596.190476   49030.000000  \n",
       "                         Side Collision         68009.696970   48481.212121  \n",
       "                         Rear Collision         65782.857143   47616.666667  \n",
       "Multi-vehicle Collision  Side Collision         62281.621622   45308.648649  \n",
       "                         Front Collision        60970.000000   43860.000000  \n",
       "                         Rear Collision         61152.448980   43474.693878  \n",
       "Parked Car               ?                       5093.750000    3711.250000  \n",
       "Vehicle Theft            ?                       5197.500000    3665.000000  "
      ]
     },
     "execution_count": 77,
     "metadata": {},
     "output_type": "execute_result"
    }
   ],
   "source": [
    "columns_to_observe = [\n",
    "    'number_of_vehicles_involved',\n",
    "    'total_claim_amount',\n",
    "    'vehicle_claim',\n",
    "    'incident_hour_of_the_day',\n",
    "]\n",
    "\n",
    "# Pivot table for incident and collision type, order by vehicle_claim\n",
    "pd.pivot_table(\n",
    "    fraud_df,\n",
    "    values=columns_to_observe,\n",
    "    index=[\n",
    "        'incident_type',\n",
    "        'collision_type',\n",
    "    ]\n",
    ").sort_values('vehicle_claim', ascending=False)"
   ]
  },
  {
   "cell_type": "markdown",
   "metadata": {},
   "source": [
    "# Profit per policy number - who are the most valuable customers?"
   ]
  },
  {
   "cell_type": "code",
   "execution_count": 80,
   "metadata": {},
   "outputs": [
    {
     "data": {
      "text/html": [
       "<div>\n",
       "<style scoped>\n",
       "    .dataframe tbody tr th:only-of-type {\n",
       "        vertical-align: middle;\n",
       "    }\n",
       "\n",
       "    .dataframe tbody tr th {\n",
       "        vertical-align: top;\n",
       "    }\n",
       "\n",
       "    .dataframe thead th {\n",
       "        text-align: right;\n",
       "    }\n",
       "</style>\n",
       "<table border=\"1\" class=\"dataframe\">\n",
       "  <thead>\n",
       "    <tr style=\"text-align: right;\">\n",
       "      <th></th>\n",
       "      <th>capital-gains</th>\n",
       "      <th>capital-loss</th>\n",
       "    </tr>\n",
       "  </thead>\n",
       "  <tbody>\n",
       "    <tr>\n",
       "      <th>0</th>\n",
       "      <td>53300</td>\n",
       "      <td>0</td>\n",
       "    </tr>\n",
       "    <tr>\n",
       "      <th>1</th>\n",
       "      <td>0</td>\n",
       "      <td>0</td>\n",
       "    </tr>\n",
       "    <tr>\n",
       "      <th>2</th>\n",
       "      <td>35100</td>\n",
       "      <td>0</td>\n",
       "    </tr>\n",
       "    <tr>\n",
       "      <th>3</th>\n",
       "      <td>48900</td>\n",
       "      <td>-62400</td>\n",
       "    </tr>\n",
       "    <tr>\n",
       "      <th>4</th>\n",
       "      <td>66000</td>\n",
       "      <td>-46000</td>\n",
       "    </tr>\n",
       "    <tr>\n",
       "      <th>5</th>\n",
       "      <td>0</td>\n",
       "      <td>0</td>\n",
       "    </tr>\n",
       "    <tr>\n",
       "      <th>6</th>\n",
       "      <td>0</td>\n",
       "      <td>-77000</td>\n",
       "    </tr>\n",
       "    <tr>\n",
       "      <th>7</th>\n",
       "      <td>0</td>\n",
       "      <td>0</td>\n",
       "    </tr>\n",
       "    <tr>\n",
       "      <th>8</th>\n",
       "      <td>0</td>\n",
       "      <td>0</td>\n",
       "    </tr>\n",
       "    <tr>\n",
       "      <th>9</th>\n",
       "      <td>0</td>\n",
       "      <td>-39300</td>\n",
       "    </tr>\n",
       "  </tbody>\n",
       "</table>\n",
       "</div>"
      ],
      "text/plain": [
       "   capital-gains  capital-loss\n",
       "0          53300             0\n",
       "1              0             0\n",
       "2          35100             0\n",
       "3          48900        -62400\n",
       "4          66000        -46000\n",
       "5              0             0\n",
       "6              0        -77000\n",
       "7              0             0\n",
       "8              0             0\n",
       "9              0        -39300"
      ]
     },
     "execution_count": 80,
     "metadata": {},
     "output_type": "execute_result"
    }
   ],
   "source": [
    "insurance_df[['capital-gains', 'capital-loss']].head(10)"
   ]
  },
  {
   "cell_type": "code",
   "execution_count": 89,
   "metadata": {},
   "outputs": [],
   "source": [
    "# calculate profit\n",
    "insurance_df['profit'] = insurance_df['capital-gains'] + insurance_df['capital-loss']"
   ]
  },
  {
   "cell_type": "code",
   "execution_count": 90,
   "metadata": {},
   "outputs": [
    {
     "data": {
      "text/html": [
       "<div>\n",
       "<style scoped>\n",
       "    .dataframe tbody tr th:only-of-type {\n",
       "        vertical-align: middle;\n",
       "    }\n",
       "\n",
       "    .dataframe tbody tr th {\n",
       "        vertical-align: top;\n",
       "    }\n",
       "\n",
       "    .dataframe thead th {\n",
       "        text-align: right;\n",
       "    }\n",
       "</style>\n",
       "<table border=\"1\" class=\"dataframe\">\n",
       "  <thead>\n",
       "    <tr style=\"text-align: right;\">\n",
       "      <th></th>\n",
       "      <th>capital-gains</th>\n",
       "      <th>capital-loss</th>\n",
       "      <th>profit</th>\n",
       "    </tr>\n",
       "  </thead>\n",
       "  <tbody>\n",
       "    <tr>\n",
       "      <th>0</th>\n",
       "      <td>53300</td>\n",
       "      <td>0</td>\n",
       "      <td>53300</td>\n",
       "    </tr>\n",
       "    <tr>\n",
       "      <th>1</th>\n",
       "      <td>0</td>\n",
       "      <td>0</td>\n",
       "      <td>0</td>\n",
       "    </tr>\n",
       "    <tr>\n",
       "      <th>2</th>\n",
       "      <td>35100</td>\n",
       "      <td>0</td>\n",
       "      <td>35100</td>\n",
       "    </tr>\n",
       "    <tr>\n",
       "      <th>3</th>\n",
       "      <td>48900</td>\n",
       "      <td>-62400</td>\n",
       "      <td>-13500</td>\n",
       "    </tr>\n",
       "    <tr>\n",
       "      <th>4</th>\n",
       "      <td>66000</td>\n",
       "      <td>-46000</td>\n",
       "      <td>20000</td>\n",
       "    </tr>\n",
       "    <tr>\n",
       "      <th>5</th>\n",
       "      <td>0</td>\n",
       "      <td>0</td>\n",
       "      <td>0</td>\n",
       "    </tr>\n",
       "    <tr>\n",
       "      <th>6</th>\n",
       "      <td>0</td>\n",
       "      <td>-77000</td>\n",
       "      <td>-77000</td>\n",
       "    </tr>\n",
       "    <tr>\n",
       "      <th>7</th>\n",
       "      <td>0</td>\n",
       "      <td>0</td>\n",
       "      <td>0</td>\n",
       "    </tr>\n",
       "    <tr>\n",
       "      <th>8</th>\n",
       "      <td>0</td>\n",
       "      <td>0</td>\n",
       "      <td>0</td>\n",
       "    </tr>\n",
       "    <tr>\n",
       "      <th>9</th>\n",
       "      <td>0</td>\n",
       "      <td>-39300</td>\n",
       "      <td>-39300</td>\n",
       "    </tr>\n",
       "  </tbody>\n",
       "</table>\n",
       "</div>"
      ],
      "text/plain": [
       "   capital-gains  capital-loss  profit\n",
       "0          53300             0   53300\n",
       "1              0             0       0\n",
       "2          35100             0   35100\n",
       "3          48900        -62400  -13500\n",
       "4          66000        -46000   20000\n",
       "5              0             0       0\n",
       "6              0        -77000  -77000\n",
       "7              0             0       0\n",
       "8              0             0       0\n",
       "9              0        -39300  -39300"
      ]
     },
     "execution_count": 90,
     "metadata": {},
     "output_type": "execute_result"
    }
   ],
   "source": [
    "insurance_df[['capital-gains', 'capital-loss', 'profit']].head(10)"
   ]
  },
  {
   "cell_type": "code",
   "execution_count": 86,
   "metadata": {},
   "outputs": [
    {
     "data": {
      "text/plain": [
       "(1000, 40)"
      ]
     },
     "execution_count": 86,
     "metadata": {},
     "output_type": "execute_result"
    }
   ],
   "source": [
    "insurance_df.shape"
   ]
  },
  {
   "cell_type": "code",
   "execution_count": 91,
   "metadata": {},
   "outputs": [
    {
     "data": {
      "text/html": [
       "<div>\n",
       "<style scoped>\n",
       "    .dataframe tbody tr th:only-of-type {\n",
       "        vertical-align: middle;\n",
       "    }\n",
       "\n",
       "    .dataframe tbody tr th {\n",
       "        vertical-align: top;\n",
       "    }\n",
       "\n",
       "    .dataframe thead th {\n",
       "        text-align: right;\n",
       "    }\n",
       "</style>\n",
       "<table border=\"1\" class=\"dataframe\">\n",
       "  <thead>\n",
       "    <tr style=\"text-align: right;\">\n",
       "      <th></th>\n",
       "      <th>capital-gains</th>\n",
       "      <th>capital-loss</th>\n",
       "      <th>profit</th>\n",
       "    </tr>\n",
       "  </thead>\n",
       "  <tbody>\n",
       "    <tr>\n",
       "      <th>816</th>\n",
       "      <td>100500</td>\n",
       "      <td>0</td>\n",
       "      <td>100500</td>\n",
       "    </tr>\n",
       "    <tr>\n",
       "      <th>272</th>\n",
       "      <td>91900</td>\n",
       "      <td>0</td>\n",
       "      <td>91900</td>\n",
       "    </tr>\n",
       "    <tr>\n",
       "      <th>171</th>\n",
       "      <td>88800</td>\n",
       "      <td>0</td>\n",
       "      <td>88800</td>\n",
       "    </tr>\n",
       "    <tr>\n",
       "      <th>135</th>\n",
       "      <td>84900</td>\n",
       "      <td>0</td>\n",
       "      <td>84900</td>\n",
       "    </tr>\n",
       "    <tr>\n",
       "      <th>759</th>\n",
       "      <td>83600</td>\n",
       "      <td>0</td>\n",
       "      <td>83600</td>\n",
       "    </tr>\n",
       "    <tr>\n",
       "      <th>429</th>\n",
       "      <td>82200</td>\n",
       "      <td>0</td>\n",
       "      <td>82200</td>\n",
       "    </tr>\n",
       "    <tr>\n",
       "      <th>656</th>\n",
       "      <td>82100</td>\n",
       "      <td>0</td>\n",
       "      <td>82100</td>\n",
       "    </tr>\n",
       "    <tr>\n",
       "      <th>380</th>\n",
       "      <td>81800</td>\n",
       "      <td>0</td>\n",
       "      <td>81800</td>\n",
       "    </tr>\n",
       "    <tr>\n",
       "      <th>310</th>\n",
       "      <td>81300</td>\n",
       "      <td>0</td>\n",
       "      <td>81300</td>\n",
       "    </tr>\n",
       "    <tr>\n",
       "      <th>32</th>\n",
       "      <td>81100</td>\n",
       "      <td>0</td>\n",
       "      <td>81100</td>\n",
       "    </tr>\n",
       "  </tbody>\n",
       "</table>\n",
       "</div>"
      ],
      "text/plain": [
       "     capital-gains  capital-loss  profit\n",
       "816         100500             0  100500\n",
       "272          91900             0   91900\n",
       "171          88800             0   88800\n",
       "135          84900             0   84900\n",
       "759          83600             0   83600\n",
       "429          82200             0   82200\n",
       "656          82100             0   82100\n",
       "380          81800             0   81800\n",
       "310          81300             0   81300\n",
       "32           81100             0   81100"
      ]
     },
     "execution_count": 91,
     "metadata": {},
     "output_type": "execute_result"
    }
   ],
   "source": [
    "# Top 10 more profitable insurances\n",
    "insurance_df[['capital-gains', 'capital-loss', 'profit']].sort_values('profit', ascending=False)[:10]"
   ]
  },
  {
   "cell_type": "markdown",
   "metadata": {},
   "source": [
    "# Build model"
   ]
  },
  {
   "cell_type": "markdown",
   "metadata": {},
   "source": [
    "## Prepare Dataset"
   ]
  },
  {
   "cell_type": "code",
   "execution_count": 97,
   "metadata": {},
   "outputs": [
    {
     "data": {
      "text/plain": [
       "NO     343\n",
       "?      343\n",
       "YES    314\n",
       "Name: police_report_available, dtype: int64"
      ]
     },
     "execution_count": 97,
     "metadata": {},
     "output_type": "execute_result"
    }
   ],
   "source": [
    "# Clean non-interesting Labels\n",
    "insurance_df['police_report_available'].value_counts()"
   ]
  },
  {
   "cell_type": "code",
   "execution_count": 98,
   "metadata": {},
   "outputs": [],
   "source": [
    "insurance_df['police_report_available'] = \\\n",
    "insurance_df['police_report_available'].replace('?', 'UNKNOWN')"
   ]
  },
  {
   "cell_type": "code",
   "execution_count": 99,
   "metadata": {},
   "outputs": [
    {
     "data": {
      "text/plain": [
       "UNKNOWN    343\n",
       "NO         343\n",
       "YES        314\n",
       "Name: police_report_available, dtype: int64"
      ]
     },
     "execution_count": 99,
     "metadata": {},
     "output_type": "execute_result"
    }
   ],
   "source": [
    "insurance_df['police_report_available'].value_counts()"
   ]
  },
  {
   "cell_type": "code",
   "execution_count": 100,
   "metadata": {},
   "outputs": [
    {
     "data": {
      "text/plain": [
       " 0           798\n",
       " 6000000      57\n",
       " 5000000      46\n",
       " 4000000      39\n",
       " 7000000      29\n",
       " 3000000      12\n",
       " 8000000       8\n",
       " 9000000       5\n",
       " 2000000       3\n",
       " 10000000      2\n",
       "-1000000       1\n",
       "Name: umbrella_limit, dtype: int64"
      ]
     },
     "execution_count": 100,
     "metadata": {},
     "output_type": "execute_result"
    }
   ],
   "source": [
    "# Remove invalid values e.g. many times system errors\n",
    "insurance_df['umbrella_limit'].value_counts()"
   ]
  },
  {
   "cell_type": "code",
   "execution_count": 101,
   "metadata": {},
   "outputs": [
    {
     "data": {
      "text/plain": [
       "0           799\n",
       "6000000      57\n",
       "5000000      46\n",
       "4000000      39\n",
       "7000000      29\n",
       "3000000      12\n",
       "8000000       8\n",
       "9000000       5\n",
       "2000000       3\n",
       "10000000      2\n",
       "Name: umbrella_limit, dtype: int64"
      ]
     },
     "execution_count": 101,
     "metadata": {},
     "output_type": "execute_result"
    }
   ],
   "source": [
    "# Remove invalid values e.g. many times system errors\n",
    "insurance_df['umbrella_limit'] = \\\n",
    "insurance_df['umbrella_limit'].replace(-1000000, 0)\n",
    "\n",
    "# Observe feature after cleaning\n",
    "insurance_df['umbrella_limit'].value_counts()"
   ]
  },
  {
   "cell_type": "markdown",
   "metadata": {},
   "source": [
    "# Remove/Drop non-interesting columns for the model"
   ]
  },
  {
   "cell_type": "code",
   "execution_count": 103,
   "metadata": {},
   "outputs": [
    {
     "data": {
      "text/plain": [
       "(1000, 40)"
      ]
     },
     "execution_count": 103,
     "metadata": {},
     "output_type": "execute_result"
    }
   ],
   "source": [
    "insurance_df.shape"
   ]
  },
  {
   "cell_type": "code",
   "execution_count": 104,
   "metadata": {},
   "outputs": [],
   "source": [
    "# Columns we do not want to add to the model\n",
    "columns_to_drop = [\n",
    "    'policy_number',\n",
    "    'policy_bind_date',\n",
    "    'insured_zip',\n",
    "    'incident_date',\n",
    "    'authorities_contacted',\n",
    "    'profit',\n",
    "    'auto_make',\n",
    "    'auto_model',\n",
    "]\n",
    "\n",
    "# drop columns that we do not need for the model\n",
    "insurance_df =\\\n",
    "insurance_df.drop(columns_to_drop, axis=1)"
   ]
  },
  {
   "cell_type": "code",
   "execution_count": 105,
   "metadata": {},
   "outputs": [
    {
     "data": {
      "text/plain": [
       "(1000, 32)"
      ]
     },
     "execution_count": 105,
     "metadata": {},
     "output_type": "execute_result"
    }
   ],
   "source": [
    "insurance_df.shape"
   ]
  },
  {
   "cell_type": "markdown",
   "metadata": {},
   "source": [
    "# Convert categorical variable into dummy/indicator variables"
   ]
  },
  {
   "cell_type": "code",
   "execution_count": 113,
   "metadata": {
    "scrolled": true
   },
   "outputs": [
    {
     "data": {
      "text/html": [
       "<div>\n",
       "<style scoped>\n",
       "    .dataframe tbody tr th:only-of-type {\n",
       "        vertical-align: middle;\n",
       "    }\n",
       "\n",
       "    .dataframe tbody tr th {\n",
       "        vertical-align: top;\n",
       "    }\n",
       "\n",
       "    .dataframe thead th {\n",
       "        text-align: right;\n",
       "    }\n",
       "</style>\n",
       "<table border=\"1\" class=\"dataframe\">\n",
       "  <thead>\n",
       "    <tr style=\"text-align: right;\">\n",
       "      <th></th>\n",
       "      <th>insured_sex</th>\n",
       "    </tr>\n",
       "  </thead>\n",
       "  <tbody>\n",
       "    <tr>\n",
       "      <th>0</th>\n",
       "      <td>MALE</td>\n",
       "    </tr>\n",
       "    <tr>\n",
       "      <th>1</th>\n",
       "      <td>MALE</td>\n",
       "    </tr>\n",
       "    <tr>\n",
       "      <th>2</th>\n",
       "      <td>FEMALE</td>\n",
       "    </tr>\n",
       "    <tr>\n",
       "      <th>3</th>\n",
       "      <td>FEMALE</td>\n",
       "    </tr>\n",
       "    <tr>\n",
       "      <th>4</th>\n",
       "      <td>MALE</td>\n",
       "    </tr>\n",
       "  </tbody>\n",
       "</table>\n",
       "</div>"
      ],
      "text/plain": [
       "  insured_sex\n",
       "0        MALE\n",
       "1        MALE\n",
       "2      FEMALE\n",
       "3      FEMALE\n",
       "4        MALE"
      ]
     },
     "execution_count": 113,
     "metadata": {},
     "output_type": "execute_result"
    }
   ],
   "source": [
    "# have a look before changing categorical variable\n",
    "insurance_df[['insured_sex']].head()"
   ]
  },
  {
   "cell_type": "code",
   "execution_count": null,
   "metadata": {},
   "outputs": [],
   "source": [
    "# Example to see how categorical variable insured_sex (MALE or FEMALE) is converted by using get_dummies method\n"
   ]
  },
  {
   "cell_type": "code",
   "execution_count": 108,
   "metadata": {},
   "outputs": [],
   "source": [
    "pd.get_dummies?"
   ]
  },
  {
   "cell_type": "code",
   "execution_count": 109,
   "metadata": {},
   "outputs": [],
   "source": [
    "# Columns to convert from categoric to numeric\n",
    "columns_to_convert = [\n",
    "    'policy_state',\n",
    "    'policy_csl',\n",
    "    'insured_sex',\n",
    "    'insured_education_level',\n",
    "    'insured_occupation',\n",
    "    'insured_hobbies',\n",
    "    'insured_relationship',\n",
    "    'incident_type',\n",
    "    'collision_type',\n",
    "    'incident_severity',\n",
    "    'incident_state',\n",
    "    'incident_city',\n",
    "    'incident_location',\n",
    "    'property_damage',\n",
    "    'police_report_available',\n",
    "]\n",
    "\n",
    "# change to numeric categoric variables\n",
    "insurance_train_df = pd.get_dummies(insurance_df, columns=columns_to_convert)"
   ]
  },
  {
   "cell_type": "code",
   "execution_count": 115,
   "metadata": {},
   "outputs": [],
   "source": [
    "#insurance_train_df[['insured_sex']].head()"
   ]
  },
  {
   "cell_type": "code",
   "execution_count": 117,
   "metadata": {},
   "outputs": [
    {
     "data": {
      "text/html": [
       "<div>\n",
       "<style scoped>\n",
       "    .dataframe tbody tr th:only-of-type {\n",
       "        vertical-align: middle;\n",
       "    }\n",
       "\n",
       "    .dataframe tbody tr th {\n",
       "        vertical-align: top;\n",
       "    }\n",
       "\n",
       "    .dataframe thead th {\n",
       "        text-align: right;\n",
       "    }\n",
       "</style>\n",
       "<table border=\"1\" class=\"dataframe\">\n",
       "  <thead>\n",
       "    <tr style=\"text-align: right;\">\n",
       "      <th></th>\n",
       "      <th>insured_sex</th>\n",
       "    </tr>\n",
       "  </thead>\n",
       "  <tbody>\n",
       "    <tr>\n",
       "      <th>0</th>\n",
       "      <td>MALE</td>\n",
       "    </tr>\n",
       "    <tr>\n",
       "      <th>1</th>\n",
       "      <td>MALE</td>\n",
       "    </tr>\n",
       "    <tr>\n",
       "      <th>2</th>\n",
       "      <td>FEMALE</td>\n",
       "    </tr>\n",
       "    <tr>\n",
       "      <th>3</th>\n",
       "      <td>FEMALE</td>\n",
       "    </tr>\n",
       "    <tr>\n",
       "      <th>4</th>\n",
       "      <td>MALE</td>\n",
       "    </tr>\n",
       "  </tbody>\n",
       "</table>\n",
       "</div>"
      ],
      "text/plain": [
       "  insured_sex\n",
       "0        MALE\n",
       "1        MALE\n",
       "2      FEMALE\n",
       "3      FEMALE\n",
       "4        MALE"
      ]
     },
     "execution_count": 117,
     "metadata": {},
     "output_type": "execute_result"
    }
   ],
   "source": [
    "insurance_df[['insured_sex']].head()"
   ]
  },
  {
   "cell_type": "code",
   "execution_count": 116,
   "metadata": {},
   "outputs": [
    {
     "data": {
      "text/html": [
       "<div>\n",
       "<style scoped>\n",
       "    .dataframe tbody tr th:only-of-type {\n",
       "        vertical-align: middle;\n",
       "    }\n",
       "\n",
       "    .dataframe tbody tr th {\n",
       "        vertical-align: top;\n",
       "    }\n",
       "\n",
       "    .dataframe thead th {\n",
       "        text-align: right;\n",
       "    }\n",
       "</style>\n",
       "<table border=\"1\" class=\"dataframe\">\n",
       "  <thead>\n",
       "    <tr style=\"text-align: right;\">\n",
       "      <th></th>\n",
       "      <th>insured_sex_MALE</th>\n",
       "      <th>insured_sex_FEMALE</th>\n",
       "    </tr>\n",
       "  </thead>\n",
       "  <tbody>\n",
       "    <tr>\n",
       "      <th>0</th>\n",
       "      <td>1</td>\n",
       "      <td>0</td>\n",
       "    </tr>\n",
       "    <tr>\n",
       "      <th>1</th>\n",
       "      <td>1</td>\n",
       "      <td>0</td>\n",
       "    </tr>\n",
       "    <tr>\n",
       "      <th>2</th>\n",
       "      <td>0</td>\n",
       "      <td>1</td>\n",
       "    </tr>\n",
       "    <tr>\n",
       "      <th>3</th>\n",
       "      <td>0</td>\n",
       "      <td>1</td>\n",
       "    </tr>\n",
       "    <tr>\n",
       "      <th>4</th>\n",
       "      <td>1</td>\n",
       "      <td>0</td>\n",
       "    </tr>\n",
       "  </tbody>\n",
       "</table>\n",
       "</div>"
      ],
      "text/plain": [
       "   insured_sex_MALE  insured_sex_FEMALE\n",
       "0                 1                   0\n",
       "1                 1                   0\n",
       "2                 0                   1\n",
       "3                 0                   1\n",
       "4                 1                   0"
      ]
     },
     "execution_count": 116,
     "metadata": {},
     "output_type": "execute_result"
    }
   ],
   "source": [
    "# Remove from dataset the target variable\n",
    "\n",
    "# Set the target variable\n",
    "insurance_train_df[['insured_sex_MALE', 'insured_sex_FEMALE']].head()"
   ]
  },
  {
   "cell_type": "code",
   "execution_count": 118,
   "metadata": {},
   "outputs": [],
   "source": [
    "x = insurance_train_df.drop(['fraud_reported'], axis=1)\n",
    "\n",
    "# Target value\n",
    "y = insurance_train_df['fraud_reported']"
   ]
  },
  {
   "cell_type": "code",
   "execution_count": 119,
   "metadata": {},
   "outputs": [
    {
     "data": {
      "text/plain": [
       "N    753\n",
       "Y    247\n",
       "Name: fraud_reported, dtype: int64"
      ]
     },
     "execution_count": 119,
     "metadata": {},
     "output_type": "execute_result"
    }
   ],
   "source": [
    "y.value_counts()"
   ]
  },
  {
   "cell_type": "markdown",
   "metadata": {},
   "source": [
    "## We have an imbalanced dataset\n",
    "### Why? More samples for non-Fraud than Fraud\n",
    "### Why is it a problem? Model might be biased towards the more representative samples"
   ]
  },
  {
   "cell_type": "markdown",
   "metadata": {},
   "source": [
    "- Let's use SMOTE: Class to perform over-sampling. This object is an implementation of SMOTE - Synthetic Minority"
   ]
  },
  {
   "cell_type": "code",
   "execution_count": 120,
   "metadata": {},
   "outputs": [
    {
     "name": "stdout",
     "output_type": "stream",
     "text": [
      "(1506, 1103)\n",
      "(1506,)\n"
     ]
    }
   ],
   "source": [
    "x_upsample, y_upsample  = SMOTE().fit_resample(x, y)\n",
    "\n",
    "print(x_upsample.shape)\n",
    "print(y_upsample.shape)"
   ]
  },
  {
   "cell_type": "code",
   "execution_count": 121,
   "metadata": {},
   "outputs": [
    {
     "data": {
      "text/plain": [
       "Y    753\n",
       "N    753\n",
       "Name: fraud_reported, dtype: int64"
      ]
     },
     "execution_count": 121,
     "metadata": {},
     "output_type": "execute_result"
    }
   ],
   "source": [
    "y_upsample.value_counts()"
   ]
  },
  {
   "cell_type": "markdown",
   "metadata": {},
   "source": [
    "## Normalize features by using Standard Scaler\n",
    "- Standardize features by removing the mean and scaling to unit variance"
   ]
  },
  {
   "cell_type": "code",
   "execution_count": 122,
   "metadata": {},
   "outputs": [],
   "source": [
    "sc = StandardScaler()\n",
    "\n",
    "x_scale = sc.fit_transform(x_upsample)"
   ]
  },
  {
   "cell_type": "markdown",
   "metadata": {},
   "source": [
    "## We have many features/columns perhaps we can reduce our number of features by creating new ones that are more interesting for the model\n",
    "\n",
    "- Principal component analysis (PCA). Linear dimensionality reduction using Singular Value Decomposition of the data to project it to a lower dimensional space. The input data is centered but not scaled for each feature before applying the SVD."
   ]
  },
  {
   "cell_type": "code",
   "execution_count": 124,
   "metadata": {},
   "outputs": [],
   "source": [
    "pca = PCA(n_components=0.95)\n",
    "\n",
    "x_scale = pca.fit_transform(x_scale)"
   ]
  },
  {
   "cell_type": "markdown",
   "metadata": {},
   "source": [
    "- 1039 features are converted into 944 principal components which constitutes 95.02% variance.\n",
    "\n",
    "- The explained variance tells how much information (variance) can be attributed to each of the principal components"
   ]
  },
  {
   "cell_type": "code",
   "execution_count": 128,
   "metadata": {},
   "outputs": [],
   "source": [
    "# Explainability ration for each dimension basically gives the variance explained solely by the i+1st dimension.\n",
    "#r = pca.explained_variance_ratio_\n",
    "#pca.explained_variance_ratio_[i] #gives the variance explained solely by the i+1st dimension.\n",
    "#np.sum(r)"
   ]
  },
  {
   "cell_type": "code",
   "execution_count": null,
   "metadata": {},
   "outputs": [],
   "source": [
    "# Prepare training and test split for your model\n"
   ]
  },
  {
   "cell_type": "markdown",
   "metadata": {},
   "source": [
    "## Build a Random Forest Model\n",
    "- Do a GridSearch to obtain the best weights for the model"
   ]
  },
  {
   "cell_type": "code",
   "execution_count": 129,
   "metadata": {},
   "outputs": [],
   "source": [
    "train_test_split?"
   ]
  },
  {
   "cell_type": "code",
   "execution_count": 130,
   "metadata": {},
   "outputs": [],
   "source": [
    "# Build a RF model\n",
    "# Takes some time to compute ~5minutes\n",
    "x_train, x_test, y_train, y_test = \\\n",
    "train_test_split(\n",
    "    x_scale,\n",
    "    y_upsample,\n",
    "    test_size=0.3\n",
    ")"
   ]
  },
  {
   "cell_type": "code",
   "execution_count": 132,
   "metadata": {},
   "outputs": [
    {
     "data": {
      "text/plain": [
       "GridSearchCV(estimator=RandomForestClassifier(),\n",
       "             param_grid={'criterion': ['gini', 'entropy'],\n",
       "                         'max_depth': array([ 1,  2,  3,  4,  5,  6,  7,  8,  9, 10, 11, 12, 13, 14, 15, 16, 17,\n",
       "       18, 19, 20, 21, 22, 23, 24, 25, 26, 27, 28, 29])})"
      ]
     },
     "execution_count": 132,
     "metadata": {},
     "output_type": "execute_result"
    }
   ],
   "source": [
    "# Now we know the best estimator and select that model\n",
    "rf = RandomForestClassifier()\n",
    "\n",
    "parameters = {\n",
    "    'criterion':[\n",
    "        'gini',\n",
    "        'entropy'\n",
    "    ],\n",
    "    'max_depth': np.arange(1,30)\n",
    "}\n",
    "\n",
    "grid = GridSearchCV(rf, parameters)\n",
    "\n",
    "\n",
    "# Find the best parameters for my train data\n",
    "grid.fit(x_train, y_train)"
   ]
  },
  {
   "cell_type": "code",
   "execution_count": 133,
   "metadata": {},
   "outputs": [],
   "source": [
    "# Use the best model to compute predictions (is Fraud or not Fraud) for test set\n",
    "model = grid.best_estimator_\n",
    "\n",
    "y_pred = model.predict(x_test)"
   ]
  },
  {
   "cell_type": "code",
   "execution_count": 134,
   "metadata": {},
   "outputs": [
    {
     "data": {
      "text/plain": [
       "0.8252212389380531"
      ]
     },
     "execution_count": 134,
     "metadata": {},
     "output_type": "execute_result"
    }
   ],
   "source": [
    "# Accuracy for how good was our model\n",
    "accuracy_score(\n",
    "    y_test,\n",
    "    y_pred,\n",
    ")"
   ]
  },
  {
   "cell_type": "code",
   "execution_count": 135,
   "metadata": {},
   "outputs": [
    {
     "data": {
      "text/plain": [
       "(0.0, 2.0)"
      ]
     },
     "execution_count": 135,
     "metadata": {},
     "output_type": "execute_result"
    },
    {
     "data": {
      "image/png": "[encoded data removed]",
      "text/plain": [
       "<Figure size 432x288 with 2 Axes>"
      ]
     },
     "metadata": {},
     "output_type": "display_data"
    }
   ],
   "source": [
    "# Confusion matrix\n",
    "# Diagonal we did well, others is erros as \n",
    "# False Positive: Model says is Fraud and is not\n",
    "# False Negative: Model says is Not-Frayd and it is\n",
    "cm = confusion_matrix(\n",
    "    y_pred,\n",
    "    y_test\n",
    ")\n",
    "\n",
    "pred_df = pd.DataFrame(data = cm, columns = ['Fraud', 'Not Fraud'])\n",
    "\n",
    "x_axis_labels = ['Not Fraud', 'Fraud']\n",
    "y_axis_labels = ['Predicted\\n Not Fraud', 'Predicted\\nFraud']\n",
    "\n",
    "ax = sns.heatmap(pred_df,\n",
    "                 xticklabels=x_axis_labels,\n",
    "                 yticklabels = y_axis_labels,\n",
    "                 annot=True, fmt=\"g\")\n",
    "ax.set_ylim([0,2])"
   ]
  },
  {
   "cell_type": "markdown",
   "metadata": {},
   "source": [
    "- Colour Black : False Positive\n",
    "- Colour Red : False Negative"
   ]
  },
  {
   "cell_type": "code",
   "execution_count": null,
   "metadata": {},
   "outputs": [],
   "source": [
    "# More evaluation metrics\n"
   ]
  },
  {
   "cell_type": "code",
   "execution_count": null,
   "metadata": {},
   "outputs": [],
   "source": []
  },
  {
   "cell_type": "code",
   "execution_count": null,
   "metadata": {},
   "outputs": [],
   "source": []
  }
 ],
 "metadata": {
  "kernelspec": {
   "display_name": "Python 3",
   "language": "python",
   "name": "python3"
  },
  "language_info": {
   "codemirror_mode": {
    "name": "ipython",
    "version": 3
   },
   "file_extension": ".py",
   "mimetype": "text/x-python",
   "name": "python",
   "nbconvert_exporter": "python",
   "pygments_lexer": "ipython3",
   "version": "3.7.4"
  }
 },
 "nbformat": 4,
 "nbformat_minor": 4
}
